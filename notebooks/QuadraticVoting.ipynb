{
 "cells": [
  {
   "cell_type": "code",
   "execution_count": 1,
   "metadata": {},
   "outputs": [
    {
     "data": {
      "text/html": [
       "<style>.container { margin-left: 2.5% !important; width:95%; }</style>"
      ],
      "text/plain": [
       "<IPython.core.display.HTML object>"
      ]
     },
     "metadata": {},
     "output_type": "display_data"
    }
   ],
   "source": [
    "# used to widen the cells \n",
    "from IPython.core.display import display, HTML\n",
    "display(HTML(\"<style>.container { margin-left: 2.5% !important; width:95%; }</style>\"))\n"
   ]
  },
  {
   "cell_type": "code",
   "execution_count": 53,
   "metadata": {},
   "outputs": [],
   "source": [
    "from algosdk.v2client import algod\n",
    "from algosdk import mnemonic\n",
    "from algosdk import transaction\n",
    "import os \n",
    "\n",
    "algod_address = \"https://testnet-algorand.api.purestake.io/ps2\"\n",
    "algod_token = os.environ['PURESTAKE_ALGORAND_API']\n",
    "headers = {\n",
    "   \"X-API-Key\": algod_token,\n",
    "}\n",
    "\n",
    "algod_client = algod.AlgodClient(algod_token, algod_address, headers);\n"
   ]
  },
  {
   "cell_type": "code",
   "execution_count": 54,
   "metadata": {},
   "outputs": [],
   "source": [
    "funded_accounts = [{'sk': 'ifH/zXLAURpo8ZLVrSa7JwL46zKiCI6T8hQVDKLfl7OHJvcxU4KOymkRKGXIt9hSJYDNU4bLphvnprOMk0nXoQ==',\n",
    "  'pk': 'Q4TPOMKTQKHMU2IRFBS4RN6YKISYBTKTQ3F2MG7HU2ZYZE2J26QVEUCFII',\n",
    "  'memo': 'couple zone group already phone alley mercy napkin rival one talk carbon useless road bag anger impact ski media scout dune wave original absent grape'},\n",
    " {'sk': 'WUxKu75u2NQwXsc60Y3oiIn0AljrFVpHxdmTy+aqBOA+I4SYeZUnGNcbv/BEJZBslRcx0VlbrL3/t+Sb/rFaog==',\n",
    "  'pk': 'HYRYJGDZSUTRRVY3X7YEIJMQNSKROMORLFN2ZPP7W7SJX7VRLKRGFM74AE',\n",
    "  'memo': 'menu circle frozen typical radio cry various shrug chef dance inmate obtain trouble absent food bicycle twice bench undo rice snow click ability abstract mystery'},\n",
    " {'sk': '2FG17XNEhzK2MiqozJ+VFBqCrx4XnDpNJs9mwh9hClieyEJYxMyi2/d1QobhgArPNBzzYSyYnNoSc6gg0KRpPA==',\n",
    "  'pk': 'T3EEEWGEZSRNX53VIKDODAAKZ42BZ43BFSMJZWQSOOUCBUFENE6NPBGJUM',\n",
    "  'memo': 'deposit stem walnut elbow attend million noble clay never left enlist pattern aerobic program rib orchard point odor guide chapter display obscure scare able fruit'},\n",
    " {'sk': '6eC5pU1jSqJTD6LZyX1v2JDT47FLBUTiCjGR7GSMKu91Xx7H6FZtCYDH725SCUNgd7isetmt0tNVs57q9qKiUw==',\n",
    "  'pk': 'OVPR5R7IKZWQTAGH55XFECKDMB33RLD23GW5FU2VWOPOV5VCUJJRI3FH74',\n",
    "  'memo': 'brush travel spot crumble network trigger kind pear depth warm dash assault poet jump frown aim embrace clog obtain simple six perfect junk abstract speak'},\n",
    " {'sk': 'ApR/2KQlYK4bJR4UyOmWnhewKS5DeEXYY3OcU7Py21p8g6uBVYT5J3NxRSpSg8VmYjrlG3VeuhMaukUZlrNSKw==',\n",
    "  'pk': 'PSB2XAKVQT4SO43RIUVFFA6FMZRDVZI3OVPLUEY2XJCRTFVTKIV3SKH5SQ',\n",
    "  'memo': 'leopard wrestle history fog scare twist churn bullet action poet enter ketchup gasp media bonus joke anger month defy degree grit witness strategy able income'}]"
   ]
  },
  {
   "cell_type": "code",
   "execution_count": 55,
   "metadata": {},
   "outputs": [
    {
     "data": {
      "text/plain": [
       "{'address': 'Q4TPOMKTQKHMU2IRFBS4RN6YKISYBTKTQ3F2MG7HU2ZYZE2J26QVEUCFII',\n",
       " 'amount': 8697000,\n",
       " 'amount-without-pending-rewards': 8697000,\n",
       " 'apps-local-state': [],\n",
       " 'apps-total-schema': {'num-byte-slice': 3, 'num-uint': 61},\n",
       " 'assets': [{'amount': 93,\n",
       "   'asset-id': 13164495,\n",
       "   'creator': 'WRXFDQL5GF5XVMMANEY25AQLNM4YJHYTOKRIURSD55BZAOH3G6XYHHFCWM',\n",
       "   'is-frozen': False}],\n",
       " 'created-apps': [{'id': 14966518,\n",
       "   'params': {'approval-program': 'AiAFAAUEAYCAgICAgICAgAEmDAR2b3RlC2FkZF9vcHRpb25zB0NyZWF0b3IETmFtZQhhc3NldF9pZBFhc3NldF9jb2VmZmljaWVudBF2b3Rpbmdfc3RhcnRfdGltZQ92b3RpbmdfZW5kX3RpbWULTlVMTF9PUFRJT04Hb3B0aW9uXxRRVm90ZURlY2lzaW9uQ3JlZGl0cwEtMRgiEkAAJjEZIxJAAMkxGSQSQADHMRklEkAAxTYaACgSQADrNhoAKRJAAVwAKjEAZys2GgBnJwQ2GgYXZycFNhoHF2cnBjYaCBdnJwc2GgkXZzIHJwZkDUEAAiJDNhoBJwgTQAAFJUNCAAknCTYaAVAhBGc2GgInCBNAAAUlQ0IACScJNhoCUCEEZzYaAycIE0AABSVDQgAJJwk2GgNQIQRnNhoEJwgTQAAFJUNCAAknCTYaBFAhBGc2GgUnCBNAAAUlQ0IACScJNhoFUCEEZyVDJUNCATEiQ0IBLCJDQgEnMgcnBmQNQQACIkMiJwRkcAA1ADUBNABAAAUiQ0IADCInCjQBJwVkC2YlQ0IA+TIHJwZkDEEAAiJDMgcnB2QNQQACIkMiJwk2GgFQZTUCNQM0AkAABSJDQgBKIicKIicKYjYaAhc2GgIXCwlmIicKYiIPQAAFIkNCACg2GgMnCxJAABEnCTYaAVA0AzYaAhcIZ0IADicJNhoBUDQDNhoCFwlnJUNCAIAyBycGZA1BAAIiQzYaAScIE0AABSVDQgAJJwk2GgFQIQRnNhoCJwgTQAAFJUNCAAknCTYaAlAhBGc2GgMnCBNAAAUlQ0IACScJNhoDUCEEZzYaBCcIE0AABSVDQgAJJwk2GgRQIQRnNhoFJwgTQAAFJUNCAAknCTYaBVAhBGclQw==',\n",
       "    'clear-state-program': 'AiABASJD',\n",
       "    'creator': 'Q4TPOMKTQKHMU2IRFBS4RN6YKISYBTKTQ3F2MG7HU2ZYZE2J26QVEUCFII',\n",
       "    'global-state': [{'key': 'b3B0aW9uX3RoaXJk',\n",
       "      'value': {'bytes': '', 'type': 2, 'uint': 9223372036854775808}},\n",
       "     {'key': 'Q3JlYXRvcg==',\n",
       "      'value': {'bytes': 'hyb3MVOCjsppEShlyLfYUiWAzVOGy6Yb56azjJNJ16E=',\n",
       "       'type': 1,\n",
       "       'uint': 0}},\n",
       "     {'key': 'TmFtZQ==',\n",
       "      'value': {'bytes': 'bXVjaGRlY2lzaW9u', 'type': 1, 'uint': 0}},\n",
       "     {'key': 'YXNzZXRfY29lZmZpY2llbnQ=',\n",
       "      'value': {'bytes': '', 'type': 2, 'uint': 2}},\n",
       "     {'key': 'b3B0aW9uX2ZpcnN0',\n",
       "      'value': {'bytes': '', 'type': 2, 'uint': 9223372036854775810}},\n",
       "     {'key': 'b3B0aW9uX25ld19mb3Vy',\n",
       "      'value': {'bytes': '', 'type': 2, 'uint': 9223372036854775808}},\n",
       "     {'key': 'b3B0aW9uX25ld190aHJlZQ==',\n",
       "      'value': {'bytes': '', 'type': 2, 'uint': 9223372036854775808}},\n",
       "     {'key': 'b3B0aW9uX3NlY29uZA==',\n",
       "      'value': {'bytes': '', 'type': 2, 'uint': 9223372036854775808}},\n",
       "     {'key': 'dm90aW5nX3N0YXJ0X3RpbWU=',\n",
       "      'value': {'bytes': '', 'type': 2, 'uint': 1616509360}},\n",
       "     {'key': 'YXNzZXRfaWQ=',\n",
       "      'value': {'bytes': '', 'type': 2, 'uint': 13164495}},\n",
       "     {'key': 'b3B0aW9uX25ld19vbmU=',\n",
       "      'value': {'bytes': '', 'type': 2, 'uint': 9223372036854775808}},\n",
       "     {'key': 'b3B0aW9uX25ld190d28=',\n",
       "      'value': {'bytes': '', 'type': 2, 'uint': 9223372036854775808}},\n",
       "     {'key': 'dm90aW5nX2VuZF90aW1l',\n",
       "      'value': {'bytes': '', 'type': 2, 'uint': 1616509660}}],\n",
       "    'global-state-schema': {'num-byte-slice': 3, 'num-uint': 61},\n",
       "    'local-state-schema': {'num-byte-slice': 1, 'num-uint': 1}}}],\n",
       " 'created-assets': [],\n",
       " 'pending-rewards': 0,\n",
       " 'reward-base': 26530,\n",
       " 'rewards': 0,\n",
       " 'round': 13092287,\n",
       " 'status': 'Offline'}"
      ]
     },
     "execution_count": 55,
     "metadata": {},
     "output_type": "execute_result"
    }
   ],
   "source": [
    "algod_client.account_info(funded_accounts[0]['pk'])"
   ]
  },
  {
   "cell_type": "code",
   "execution_count": 56,
   "metadata": {},
   "outputs": [],
   "source": [
    "def compile(approval_filename='approval.teal', clear_state_filename='clear_state.teal'):\n",
    "\n",
    "    # pyteal to teal \n",
    "    with open(approval_filename, 'w') as f:\n",
    "        compiled = compileTeal(approval_program(), Mode.Application)\n",
    "        f.write(compiled)\n",
    "\n",
    "    with open(clear_state_filename, 'w') as f:\n",
    "        compiled = compileTeal(clear_state_program(), Mode.Application)\n",
    "        f.write(compiled)\n",
    "\n",
    "    # teal to bytecode \n",
    "    stdout, stderr = execute([\"goal\", \"clerk\", \"compile\", \"-o\", approval_filename+'.tok', approval_filename])\n",
    "    if stderr != \"\":\n",
    "        print(stderr)\n",
    "        raise\n",
    "    elif len(stdout) < 59:\n",
    "        print(\"error in compile teal\")\n",
    "        raise\n",
    "\n",
    "    stdout, stderr = execute([\"goal\", \"clerk\", \"compile\", \"-o\", clear_state_filename+'.tok', clear_state_filename])\n",
    "    if stderr != \"\":\n",
    "        print(stderr)\n",
    "        raise\n",
    "    elif len(stdout) < 59:\n",
    "        print(\"error in compile teal\")\n",
    "        raise\n",
    "\n",
    "    with open(approval_filename+'.tok', 'rb') as f:\n",
    "        approval_bytes = f.read()\n",
    "\n",
    "    with open(clear_state_filename+'.tok', 'rb') as f: \n",
    "        clear_state_bytes = f.read() \n",
    "        \n",
    "    return approval_bytes, clear_state_bytes"
   ]
  },
  {
   "cell_type": "code",
   "execution_count": 57,
   "metadata": {},
   "outputs": [],
   "source": [
    "# read app global state\n",
    "def read_global_state(client, addr, app_id):   \n",
    "    results = client.account_info(addr)\n",
    "    apps_created = results['created-apps']\n",
    "    global_states = []\n",
    "    for app in apps_created :\n",
    "        if app['id'] == app_id :\n",
    "            global_states.append(app['params']['global-state'])\n",
    "            # print(f\"global_state for app_id {app_id}: \", app['params']['global-state'])\n",
    "    return global_states "
   ]
  },
  {
   "cell_type": "code",
   "execution_count": 58,
   "metadata": {},
   "outputs": [],
   "source": [
    "import base64 \n",
    "def decode_keys(s):\n",
    "    for entry in s[0]:\n",
    "        entry['key'] = base64.b64decode(entry['key']).decode('utf-8')\n",
    "    return s"
   ]
  },
  {
   "cell_type": "code",
   "execution_count": 59,
   "metadata": {},
   "outputs": [],
   "source": [
    "import time"
   ]
  },
  {
   "cell_type": "code",
   "execution_count": 60,
   "metadata": {},
   "outputs": [],
   "source": [
    "from pyteal import *    \n",
    "    \n",
    "def approval_program():     \n",
    "    VOTING_CREDIT_SYM = Bytes(\"QVoteDecisionCredits\")\n",
    "    OPTION_PREFIX = Bytes(\"option_\")\n",
    "    NULL_OPTION = Bytes(\"NULL_OPTION\")\n",
    "    ZERO = Int(2**63)     # to have neative numbers \n",
    "    MINUS = Bytes(\"-\")\n",
    "    \n",
    "    arg_num = Txn.application_args.length()\n",
    "    \n",
    "    on_closeout = Return(Int(1))\n",
    "    \n",
    "    asset_id = App.globalGet(Bytes(\"asset_id\"))\n",
    "    asset_balance = AssetHolding.balance(Int(0), asset_id) \n",
    "    asset_coeff = App.globalGet(Bytes(\"asset_coefficient\"))\n",
    "    on_optin = Seq([\n",
    "        If(Global.latest_timestamp() > App.globalGet(Bytes(\"voting_start_time\")), \n",
    "          Return(Int(0))),\n",
    "        asset_balance, \n",
    "        If(asset_balance.hasValue(),  # if sender has some tokens, store it, otherwise return 0     \n",
    "           Seq([App.localPut(Int(0), VOTING_CREDIT_SYM, Mul(asset_balance.value(), asset_coeff)), Return(Int(1))]),      \n",
    "           Return(Int(0))\n",
    "        ) \n",
    "    ])  \n",
    "    \n",
    "    # TODO registration time \n",
    "    option0 = Concat(OPTION_PREFIX, Txn.application_args[1])\n",
    "    option0_tally = App.globalGetEx(Int(0), option0)            # current total of votes for this option\n",
    "    option0_votes = Btoi(Txn.application_args[2])               # how much the user wants to vote for this option \n",
    "    option0_votes_sign = Txn.application_args[3]\n",
    "    credit_balance = App.localGet(Int(0), VOTING_CREDIT_SYM)\n",
    "    on_vote = Seq([ \n",
    "        If(Global.latest_timestamp() < App.globalGet(Bytes(\"voting_start_time\")), \n",
    "          Return(Int(0))),\n",
    "        If(Global.latest_timestamp() > App.globalGet(Bytes(\"voting_end_time\")), \n",
    "          Return(Int(0))),\n",
    "        option0_tally, \n",
    "        If(option0_tally.hasValue(),      # if user chose a valid option \n",
    "           Seq([\n",
    "               App.localPut(Int(0), VOTING_CREDIT_SYM, credit_balance-Mul(option0_votes, option0_votes)),     # update balance\n",
    "               If(Ge(credit_balance, Int(0)),             # does credit_balance this get re-evaluated? \n",
    "                    If(option0_votes_sign == MINUS,\n",
    "                       App.globalPut(option0, option0_tally.value()-option0_votes),    \n",
    "                       App.globalPut(option0, option0_tally.value()+option0_votes), \n",
    "                      ),\n",
    "                    Return(Int(0))\n",
    "                 ),    \n",
    "               Return(Int(1))\n",
    "           ]),\n",
    "           Return(Int(0))\n",
    "          )\n",
    "    ])\n",
    "    \n",
    "    \n",
    "    # add up to 5 options at a time. \n",
    "    on_add_options =  Seq([\n",
    "        If(Global.latest_timestamp() > App.globalGet(Bytes(\"voting_start_time\")), \n",
    "          Return(Int(0))),\n",
    "        If(Txn.application_args[1] != NULL_OPTION, \n",
    "           Seq([App.globalPut(Concat(OPTION_PREFIX, Txn.application_args[1]), ZERO)]),\n",
    "           Return(Int(1))\n",
    "        ),\n",
    "        If(Txn.application_args[2] != NULL_OPTION, \n",
    "          Seq([App.globalPut(Concat(OPTION_PREFIX, Txn.application_args[2]), ZERO)]),\n",
    "           Return(Int(1))\n",
    "        ),\n",
    "        If(Txn.application_args[3] != NULL_OPTION, \n",
    "          Seq([App.globalPut(Concat(OPTION_PREFIX, Txn.application_args[3]), ZERO)]),\n",
    "           Return(Int(1))\n",
    "        ),\n",
    "        If(Txn.application_args[4] != NULL_OPTION, \n",
    "          Seq([App.globalPut(Concat(OPTION_PREFIX, Txn.application_args[4]), ZERO)]),\n",
    "           Return(Int(1))\n",
    "        ),\n",
    "        If(Txn.application_args[5] != NULL_OPTION, \n",
    "          Seq([App.globalPut(Concat(OPTION_PREFIX, Txn.application_args[5]), ZERO)]),\n",
    "           Return(Int(1))\n",
    "        ), \n",
    "        Return(Int(1))\n",
    "    ])\n",
    "    \n",
    "    \n",
    "    on_creation = Seq([    \n",
    "        App.globalPut(Bytes(\"Creator\"), Txn.sender()),    \n",
    "        App.globalPut(Bytes(\"Name\"), Txn.application_args[0]),\n",
    "        App.globalPut(Bytes(\"asset_id\"), Btoi(Txn.application_args[6])), \n",
    "        App.globalPut(Bytes(\"asset_coefficient\"), Btoi(Txn.application_args[7])), \n",
    "        App.globalPut(Bytes(\"voting_start_time\"), Btoi(Txn.application_args[8])),\n",
    "        App.globalPut(Bytes(\"voting_end_time\"), Btoi(Txn.application_args[9])),\n",
    "        on_add_options,   # record the options \n",
    "        Return(Int(1))\n",
    "    ])    \n",
    "    \n",
    "        \n",
    "    program = Cond(    \n",
    "            [Txn.application_id() == Int(0), on_creation],    \n",
    "            [Txn.on_completion() == OnComplete.DeleteApplication, Return(Int(0))], \n",
    "            [Txn.on_completion() == OnComplete.UpdateApplication, Return(Int(0))],    \n",
    "            [Txn.on_completion() == OnComplete.OptIn, on_optin],\n",
    "            [Txn.application_args[0] == Bytes(\"vote\"), on_vote],\n",
    "            [Txn.application_args[0] == Bytes(\"add_options\"), on_add_options]\n",
    "    )    \n",
    "    return program    \n",
    "    \n",
    "    \n",
    "def clear_state_program():     \n",
    "    program = Return(Int(1))\n",
    "    return program    \n"
   ]
  },
  {
   "cell_type": "markdown",
   "metadata": {},
   "source": [
    "## Deploy"
   ]
  },
  {
   "cell_type": "code",
   "execution_count": 61,
   "metadata": {},
   "outputs": [],
   "source": [
    "from algosdk.future import transaction\n",
    "from algosdk.future.transaction import StateSchema\n",
    "from algosdk.future.transaction import OnComplete as onComplete"
   ]
  },
  {
   "cell_type": "code",
   "execution_count": 62,
   "metadata": {},
   "outputs": [],
   "source": [
    "params = algod_client.suggested_params()\n",
    "params.falt_fee = True\n",
    "params.fee = 1000"
   ]
  },
  {
   "cell_type": "code",
   "execution_count": 65,
   "metadata": {},
   "outputs": [
    {
     "data": {
      "text/plain": [
       "'CAV4Q73G575OTISGSOZRUS5DBJHIUAWBGKCK7HYIYVT4QEA67SWQ'"
      ]
     },
     "execution_count": 65,
     "metadata": {},
     "output_type": "execute_result"
    }
   ],
   "source": [
    "asset_id = 13164495    # this asset is used to compare \n",
    "asset_coefficient = 2    # how many voting coins you get for each token of the asset you own \n",
    "\n",
    "approval_bytes, clear_state_bytes = compile()\n",
    "\n",
    "decision_name = 'muchdecision'\n",
    "\n",
    "local_schema = StateSchema(num_uints=1, num_byte_slices=1)    \n",
    "global_schema = StateSchema(num_uints=61, num_byte_slices=3)     # maximum sum is 64\n",
    "\n",
    "registration_seconds = 150\n",
    "voting_seconds = 300\n",
    "\n",
    "start_time = round(time.time()) + registration_seconds\n",
    "end_time = start_time + voting_seconds\n",
    "\n",
    "on_complete = onComplete(0)\n",
    "app_create_txn = transaction.ApplicationCreateTxn(\n",
    "    funded_accounts[0]['pk'], \n",
    "    params, \n",
    "    on_complete, \n",
    "    approval_bytes, \n",
    "    clear_state_bytes, \n",
    "    global_schema, \n",
    "    local_schema,\n",
    "    # you always need to submit this many options. you can use NULL_OPTION to ingore an option \n",
    "    app_args = [decision_name.encode('utf-8'), \n",
    "                \"first\".encode('utf-8'),\n",
    "                \"second\".encode('utf-8'),\n",
    "                \"third\".encode('utf-8'), \n",
    "                \"NULL_OPTION\".encode('utf-8'),\n",
    "                \"NULL_OPTION\".encode('utf-8'), \n",
    "                asset_id.to_bytes(3, 'big'),\n",
    "                asset_coefficient.to_bytes(2, 'big'), \n",
    "                start_time.to_bytes(6, 'big'),\n",
    "                end_time.to_bytes(6, 'big')]\n",
    ")\n",
    "\n",
    "app_create_txn_signed = app_create_txn.sign(funded_accounts[0]['sk'])\n",
    "txid = algod_client.send_transaction(app_create_txn_signed)\n",
    "txid"
   ]
  },
  {
   "cell_type": "code",
   "execution_count": 87,
   "metadata": {},
   "outputs": [
    {
     "data": {
      "text/plain": [
       "1"
      ]
     },
     "execution_count": 87,
     "metadata": {},
     "output_type": "execute_result"
    }
   ],
   "source": [
    "round(time.time()) - start_time"
   ]
  },
  {
   "cell_type": "code",
   "execution_count": 69,
   "metadata": {},
   "outputs": [
    {
     "data": {
      "text/plain": [
       "14967091"
      ]
     },
     "execution_count": 69,
     "metadata": {},
     "output_type": "execute_result"
    }
   ],
   "source": [
    "app_id = algod_client.pending_transaction_info(txid)['application-index']\n",
    "app_id"
   ]
  },
  {
   "cell_type": "code",
   "execution_count": 71,
   "metadata": {},
   "outputs": [
    {
     "data": {
      "text/plain": [
       "[[{'key': 'voting_end_time',\n",
       "   'value': {'bytes': '', 'type': 2, 'uint': 1616512681}},\n",
       "  {'key': 'Creator',\n",
       "   'value': {'bytes': 'hyb3MVOCjsppEShlyLfYUiWAzVOGy6Yb56azjJNJ16E=',\n",
       "    'type': 1,\n",
       "    'uint': 0}},\n",
       "  {'key': 'asset_id', 'value': {'bytes': '', 'type': 2, 'uint': 13164495}},\n",
       "  {'key': 'option_first',\n",
       "   'value': {'bytes': '', 'type': 2, 'uint': 9223372036854775808}},\n",
       "  {'key': 'option_second',\n",
       "   'value': {'bytes': '', 'type': 2, 'uint': 9223372036854775808}},\n",
       "  {'key': 'Name',\n",
       "   'value': {'bytes': 'bXVjaGRlY2lzaW9u', 'type': 1, 'uint': 0}},\n",
       "  {'key': 'asset_coefficient', 'value': {'bytes': '', 'type': 2, 'uint': 2}},\n",
       "  {'key': 'voting_start_time',\n",
       "   'value': {'bytes': '', 'type': 2, 'uint': 1616512381}},\n",
       "  {'key': 'option_third',\n",
       "   'value': {'bytes': '', 'type': 2, 'uint': 9223372036854775808}}]]"
      ]
     },
     "execution_count": 71,
     "metadata": {},
     "output_type": "execute_result"
    }
   ],
   "source": [
    "global_state = read_global_state(algod_client, funded_accounts[0]['pk'], app_id)\n",
    "decode_keys(global_state)"
   ]
  },
  {
   "cell_type": "markdown",
   "metadata": {},
   "source": [
    "## Add more options"
   ]
  },
  {
   "cell_type": "code",
   "execution_count": 72,
   "metadata": {},
   "outputs": [],
   "source": [
    "def add_options_tx(option_names, sender=0):\n",
    "    app_args = [\"add_options\".encode(\"utf-8\")] + [option_name.encode('utf-8') for option_name in option_names]\n",
    "\n",
    "    # create unsigned transaction\n",
    "    call_tx = transaction.ApplicationNoOpTxn(funded_accounts[sender]['pk'], params, app_id, app_args)\n",
    "    call_txid = algod_client.send_transaction(call_tx.sign(funded_accounts[sender]['sk']))\n",
    "    return call_txid\n",
    "\n",
    "call_txid = add_options_tx([\"new_one\", \"new_two\", \"new_three\", \"new_four\", \"NULL_OPTION\"])"
   ]
  },
  {
   "cell_type": "code",
   "execution_count": 74,
   "metadata": {},
   "outputs": [
    {
     "data": {
      "text/plain": [
       "[[{'key': 'asset_coefficient', 'value': {'bytes': '', 'type': 2, 'uint': 2}},\n",
       "  {'key': 'Name',\n",
       "   'value': {'bytes': 'bXVjaGRlY2lzaW9u', 'type': 1, 'uint': 0}},\n",
       "  {'key': 'voting_start_time',\n",
       "   'value': {'bytes': '', 'type': 2, 'uint': 1616512381}},\n",
       "  {'key': 'voting_end_time',\n",
       "   'value': {'bytes': '', 'type': 2, 'uint': 1616512681}},\n",
       "  {'key': 'option_first',\n",
       "   'value': {'bytes': '', 'type': 2, 'uint': 9223372036854775808}},\n",
       "  {'key': 'Creator',\n",
       "   'value': {'bytes': 'hyb3MVOCjsppEShlyLfYUiWAzVOGy6Yb56azjJNJ16E=',\n",
       "    'type': 1,\n",
       "    'uint': 0}},\n",
       "  {'key': 'option_second',\n",
       "   'value': {'bytes': '', 'type': 2, 'uint': 9223372036854775808}},\n",
       "  {'key': 'option_third',\n",
       "   'value': {'bytes': '', 'type': 2, 'uint': 9223372036854775808}},\n",
       "  {'key': 'asset_id', 'value': {'bytes': '', 'type': 2, 'uint': 13164495}}]]"
      ]
     },
     "execution_count": 74,
     "metadata": {},
     "output_type": "execute_result"
    }
   ],
   "source": [
    "global_state = decode_keys(read_global_state(algod_client, funded_accounts[0]['pk'], app_id))\n",
    "global_state"
   ]
  },
  {
   "cell_type": "markdown",
   "metadata": {},
   "source": [
    "## Opt-in"
   ]
  },
  {
   "cell_type": "code",
   "execution_count": 75,
   "metadata": {},
   "outputs": [
    {
     "data": {
      "text/plain": [
       "'AAOMYWTJUL3Y27CT6YDAZPO74VY2M6QEVF5XDPDBR5Z7KQPPE3KA'"
      ]
     },
     "execution_count": 75,
     "metadata": {},
     "output_type": "execute_result"
    }
   ],
   "source": [
    "optin_tx = transaction.ApplicationOptInTxn(funded_accounts[1]['pk'], params, app_id)\n",
    "algod_client.send_transaction(optin_tx.sign(funded_accounts[1]['sk']))"
   ]
  },
  {
   "cell_type": "code",
   "execution_count": 88,
   "metadata": {},
   "outputs": [
    {
     "ename": "AlgodHTTPError",
     "evalue": "{\"message\":\"TransactionPool.Remember: transaction VQLM2IAPQ5QYMPPZLMSOGVEKDD6DKMJHV3KDVWZUZ5CY4YSKBQ4A: transaction rejected by ApprovalProgram\"}\n",
     "output_type": "error",
     "traceback": [
      "\u001b[0;31m---------------------------------------------------------------------------\u001b[0m",
      "\u001b[0;31mHTTPError\u001b[0m                                 Traceback (most recent call last)",
      "\u001b[0;32m~/anaconda3/lib/python3.7/site-packages/algosdk/v2client/algod.py\u001b[0m in \u001b[0;36malgod_request\u001b[0;34m(self, method, requrl, params, data, headers, response_format)\u001b[0m\n\u001b[1;32m     71\u001b[0m         \u001b[0;32mtry\u001b[0m\u001b[0;34m:\u001b[0m\u001b[0;34m\u001b[0m\u001b[0;34m\u001b[0m\u001b[0m\n\u001b[0;32m---> 72\u001b[0;31m             \u001b[0mresp\u001b[0m \u001b[0;34m=\u001b[0m \u001b[0murlopen\u001b[0m\u001b[0;34m(\u001b[0m\u001b[0mreq\u001b[0m\u001b[0;34m)\u001b[0m\u001b[0;34m\u001b[0m\u001b[0;34m\u001b[0m\u001b[0m\n\u001b[0m\u001b[1;32m     73\u001b[0m         \u001b[0;32mexcept\u001b[0m \u001b[0murllib\u001b[0m\u001b[0;34m.\u001b[0m\u001b[0merror\u001b[0m\u001b[0;34m.\u001b[0m\u001b[0mHTTPError\u001b[0m \u001b[0;32mas\u001b[0m \u001b[0me\u001b[0m\u001b[0;34m:\u001b[0m\u001b[0;34m\u001b[0m\u001b[0;34m\u001b[0m\u001b[0m\n",
      "\u001b[0;32m~/anaconda3/lib/python3.7/urllib/request.py\u001b[0m in \u001b[0;36murlopen\u001b[0;34m(url, data, timeout, cafile, capath, cadefault, context)\u001b[0m\n\u001b[1;32m    221\u001b[0m         \u001b[0mopener\u001b[0m \u001b[0;34m=\u001b[0m \u001b[0m_opener\u001b[0m\u001b[0;34m\u001b[0m\u001b[0;34m\u001b[0m\u001b[0m\n\u001b[0;32m--> 222\u001b[0;31m     \u001b[0;32mreturn\u001b[0m \u001b[0mopener\u001b[0m\u001b[0;34m.\u001b[0m\u001b[0mopen\u001b[0m\u001b[0;34m(\u001b[0m\u001b[0murl\u001b[0m\u001b[0;34m,\u001b[0m \u001b[0mdata\u001b[0m\u001b[0;34m,\u001b[0m \u001b[0mtimeout\u001b[0m\u001b[0;34m)\u001b[0m\u001b[0;34m\u001b[0m\u001b[0;34m\u001b[0m\u001b[0m\n\u001b[0m\u001b[1;32m    223\u001b[0m \u001b[0;34m\u001b[0m\u001b[0m\n",
      "\u001b[0;32m~/anaconda3/lib/python3.7/urllib/request.py\u001b[0m in \u001b[0;36mopen\u001b[0;34m(self, fullurl, data, timeout)\u001b[0m\n\u001b[1;32m    530\u001b[0m             \u001b[0mmeth\u001b[0m \u001b[0;34m=\u001b[0m \u001b[0mgetattr\u001b[0m\u001b[0;34m(\u001b[0m\u001b[0mprocessor\u001b[0m\u001b[0;34m,\u001b[0m \u001b[0mmeth_name\u001b[0m\u001b[0;34m)\u001b[0m\u001b[0;34m\u001b[0m\u001b[0;34m\u001b[0m\u001b[0m\n\u001b[0;32m--> 531\u001b[0;31m             \u001b[0mresponse\u001b[0m \u001b[0;34m=\u001b[0m \u001b[0mmeth\u001b[0m\u001b[0;34m(\u001b[0m\u001b[0mreq\u001b[0m\u001b[0;34m,\u001b[0m \u001b[0mresponse\u001b[0m\u001b[0;34m)\u001b[0m\u001b[0;34m\u001b[0m\u001b[0;34m\u001b[0m\u001b[0m\n\u001b[0m\u001b[1;32m    532\u001b[0m \u001b[0;34m\u001b[0m\u001b[0m\n",
      "\u001b[0;32m~/anaconda3/lib/python3.7/urllib/request.py\u001b[0m in \u001b[0;36mhttp_response\u001b[0;34m(self, request, response)\u001b[0m\n\u001b[1;32m    640\u001b[0m             response = self.parent.error(\n\u001b[0;32m--> 641\u001b[0;31m                 'http', request, response, code, msg, hdrs)\n\u001b[0m\u001b[1;32m    642\u001b[0m \u001b[0;34m\u001b[0m\u001b[0m\n",
      "\u001b[0;32m~/anaconda3/lib/python3.7/urllib/request.py\u001b[0m in \u001b[0;36merror\u001b[0;34m(self, proto, *args)\u001b[0m\n\u001b[1;32m    568\u001b[0m             \u001b[0margs\u001b[0m \u001b[0;34m=\u001b[0m \u001b[0;34m(\u001b[0m\u001b[0mdict\u001b[0m\u001b[0;34m,\u001b[0m \u001b[0;34m'default'\u001b[0m\u001b[0;34m,\u001b[0m \u001b[0;34m'http_error_default'\u001b[0m\u001b[0;34m)\u001b[0m \u001b[0;34m+\u001b[0m \u001b[0morig_args\u001b[0m\u001b[0;34m\u001b[0m\u001b[0;34m\u001b[0m\u001b[0m\n\u001b[0;32m--> 569\u001b[0;31m             \u001b[0;32mreturn\u001b[0m \u001b[0mself\u001b[0m\u001b[0;34m.\u001b[0m\u001b[0m_call_chain\u001b[0m\u001b[0;34m(\u001b[0m\u001b[0;34m*\u001b[0m\u001b[0margs\u001b[0m\u001b[0;34m)\u001b[0m\u001b[0;34m\u001b[0m\u001b[0;34m\u001b[0m\u001b[0m\n\u001b[0m\u001b[1;32m    570\u001b[0m \u001b[0;34m\u001b[0m\u001b[0m\n",
      "\u001b[0;32m~/anaconda3/lib/python3.7/urllib/request.py\u001b[0m in \u001b[0;36m_call_chain\u001b[0;34m(self, chain, kind, meth_name, *args)\u001b[0m\n\u001b[1;32m    502\u001b[0m             \u001b[0mfunc\u001b[0m \u001b[0;34m=\u001b[0m \u001b[0mgetattr\u001b[0m\u001b[0;34m(\u001b[0m\u001b[0mhandler\u001b[0m\u001b[0;34m,\u001b[0m \u001b[0mmeth_name\u001b[0m\u001b[0;34m)\u001b[0m\u001b[0;34m\u001b[0m\u001b[0;34m\u001b[0m\u001b[0m\n\u001b[0;32m--> 503\u001b[0;31m             \u001b[0mresult\u001b[0m \u001b[0;34m=\u001b[0m \u001b[0mfunc\u001b[0m\u001b[0;34m(\u001b[0m\u001b[0;34m*\u001b[0m\u001b[0margs\u001b[0m\u001b[0;34m)\u001b[0m\u001b[0;34m\u001b[0m\u001b[0;34m\u001b[0m\u001b[0m\n\u001b[0m\u001b[1;32m    504\u001b[0m             \u001b[0;32mif\u001b[0m \u001b[0mresult\u001b[0m \u001b[0;32mis\u001b[0m \u001b[0;32mnot\u001b[0m \u001b[0;32mNone\u001b[0m\u001b[0;34m:\u001b[0m\u001b[0;34m\u001b[0m\u001b[0;34m\u001b[0m\u001b[0m\n",
      "\u001b[0;32m~/anaconda3/lib/python3.7/urllib/request.py\u001b[0m in \u001b[0;36mhttp_error_default\u001b[0;34m(self, req, fp, code, msg, hdrs)\u001b[0m\n\u001b[1;32m    648\u001b[0m     \u001b[0;32mdef\u001b[0m \u001b[0mhttp_error_default\u001b[0m\u001b[0;34m(\u001b[0m\u001b[0mself\u001b[0m\u001b[0;34m,\u001b[0m \u001b[0mreq\u001b[0m\u001b[0;34m,\u001b[0m \u001b[0mfp\u001b[0m\u001b[0;34m,\u001b[0m \u001b[0mcode\u001b[0m\u001b[0;34m,\u001b[0m \u001b[0mmsg\u001b[0m\u001b[0;34m,\u001b[0m \u001b[0mhdrs\u001b[0m\u001b[0;34m)\u001b[0m\u001b[0;34m:\u001b[0m\u001b[0;34m\u001b[0m\u001b[0;34m\u001b[0m\u001b[0m\n\u001b[0;32m--> 649\u001b[0;31m         \u001b[0;32mraise\u001b[0m \u001b[0mHTTPError\u001b[0m\u001b[0;34m(\u001b[0m\u001b[0mreq\u001b[0m\u001b[0;34m.\u001b[0m\u001b[0mfull_url\u001b[0m\u001b[0;34m,\u001b[0m \u001b[0mcode\u001b[0m\u001b[0;34m,\u001b[0m \u001b[0mmsg\u001b[0m\u001b[0;34m,\u001b[0m \u001b[0mhdrs\u001b[0m\u001b[0;34m,\u001b[0m \u001b[0mfp\u001b[0m\u001b[0;34m)\u001b[0m\u001b[0;34m\u001b[0m\u001b[0;34m\u001b[0m\u001b[0m\n\u001b[0m\u001b[1;32m    650\u001b[0m \u001b[0;34m\u001b[0m\u001b[0m\n",
      "\u001b[0;31mHTTPError\u001b[0m: HTTP Error 400: Bad Request",
      "\nDuring handling of the above exception, another exception occurred:\n",
      "\u001b[0;31mAlgodHTTPError\u001b[0m                            Traceback (most recent call last)",
      "\u001b[0;32m~/anaconda3/lib/python3.7/site-packages/algosdk/v2client/algod.py\u001b[0m in \u001b[0;36malgod_request\u001b[0;34m(self, method, requrl, params, data, headers, response_format)\u001b[0m\n\u001b[1;32m     76\u001b[0m             \u001b[0;32mtry\u001b[0m\u001b[0;34m:\u001b[0m\u001b[0;34m\u001b[0m\u001b[0;34m\u001b[0m\u001b[0m\n\u001b[0;32m---> 77\u001b[0;31m                 \u001b[0;32mraise\u001b[0m \u001b[0merror\u001b[0m\u001b[0;34m.\u001b[0m\u001b[0mAlgodHTTPError\u001b[0m\u001b[0;34m(\u001b[0m\u001b[0mjson\u001b[0m\u001b[0;34m.\u001b[0m\u001b[0mloads\u001b[0m\u001b[0;34m(\u001b[0m\u001b[0me\u001b[0m\u001b[0;34m)\u001b[0m\u001b[0;34m[\u001b[0m\u001b[0;34m\"message\"\u001b[0m\u001b[0;34m]\u001b[0m\u001b[0;34m,\u001b[0m \u001b[0mcode\u001b[0m\u001b[0;34m)\u001b[0m\u001b[0;34m\u001b[0m\u001b[0;34m\u001b[0m\u001b[0m\n\u001b[0m\u001b[1;32m     78\u001b[0m             \u001b[0;32mexcept\u001b[0m\u001b[0;34m:\u001b[0m\u001b[0;34m\u001b[0m\u001b[0;34m\u001b[0m\u001b[0m\n",
      "\u001b[0;31mAlgodHTTPError\u001b[0m: TransactionPool.Remember: transaction VQLM2IAPQ5QYMPPZLMSOGVEKDD6DKMJHV3KDVWZUZ5CY4YSKBQ4A: transaction rejected by ApprovalProgram",
      "\nDuring handling of the above exception, another exception occurred:\n",
      "\u001b[0;31mAlgodHTTPError\u001b[0m                            Traceback (most recent call last)",
      "\u001b[0;32m<ipython-input-88-f0a823763f06>\u001b[0m in \u001b[0;36m<module>\u001b[0;34m\u001b[0m\n\u001b[1;32m      1\u001b[0m \u001b[0moptin_tx\u001b[0m \u001b[0;34m=\u001b[0m \u001b[0mtransaction\u001b[0m\u001b[0;34m.\u001b[0m\u001b[0mApplicationOptInTxn\u001b[0m\u001b[0;34m(\u001b[0m\u001b[0mfunded_accounts\u001b[0m\u001b[0;34m[\u001b[0m\u001b[0;36m3\u001b[0m\u001b[0;34m]\u001b[0m\u001b[0;34m[\u001b[0m\u001b[0;34m'pk'\u001b[0m\u001b[0;34m]\u001b[0m\u001b[0;34m,\u001b[0m \u001b[0mparams\u001b[0m\u001b[0;34m,\u001b[0m \u001b[0mapp_id\u001b[0m\u001b[0;34m)\u001b[0m\u001b[0;34m\u001b[0m\u001b[0;34m\u001b[0m\u001b[0m\n\u001b[0;32m----> 2\u001b[0;31m \u001b[0malgod_client\u001b[0m\u001b[0;34m.\u001b[0m\u001b[0msend_transaction\u001b[0m\u001b[0;34m(\u001b[0m\u001b[0moptin_tx\u001b[0m\u001b[0;34m.\u001b[0m\u001b[0msign\u001b[0m\u001b[0;34m(\u001b[0m\u001b[0mfunded_accounts\u001b[0m\u001b[0;34m[\u001b[0m\u001b[0;36m3\u001b[0m\u001b[0;34m]\u001b[0m\u001b[0;34m[\u001b[0m\u001b[0;34m'sk'\u001b[0m\u001b[0;34m]\u001b[0m\u001b[0;34m)\u001b[0m\u001b[0;34m)\u001b[0m\u001b[0;34m\u001b[0m\u001b[0;34m\u001b[0m\u001b[0m\n\u001b[0m\u001b[1;32m      3\u001b[0m \u001b[0;34m\u001b[0m\u001b[0m\n\u001b[1;32m      4\u001b[0m \u001b[0moptin_tx\u001b[0m \u001b[0;34m=\u001b[0m \u001b[0mtransaction\u001b[0m\u001b[0;34m.\u001b[0m\u001b[0mApplicationOptInTxn\u001b[0m\u001b[0;34m(\u001b[0m\u001b[0mfunded_accounts\u001b[0m\u001b[0;34m[\u001b[0m\u001b[0;36m4\u001b[0m\u001b[0;34m]\u001b[0m\u001b[0;34m[\u001b[0m\u001b[0;34m'pk'\u001b[0m\u001b[0;34m]\u001b[0m\u001b[0;34m,\u001b[0m \u001b[0mparams\u001b[0m\u001b[0;34m,\u001b[0m \u001b[0mapp_id\u001b[0m\u001b[0;34m)\u001b[0m\u001b[0;34m\u001b[0m\u001b[0;34m\u001b[0m\u001b[0m\n\u001b[1;32m      5\u001b[0m \u001b[0malgod_client\u001b[0m\u001b[0;34m.\u001b[0m\u001b[0msend_transaction\u001b[0m\u001b[0;34m(\u001b[0m\u001b[0moptin_tx\u001b[0m\u001b[0;34m.\u001b[0m\u001b[0msign\u001b[0m\u001b[0;34m(\u001b[0m\u001b[0mfunded_accounts\u001b[0m\u001b[0;34m[\u001b[0m\u001b[0;36m4\u001b[0m\u001b[0;34m]\u001b[0m\u001b[0;34m[\u001b[0m\u001b[0;34m'sk'\u001b[0m\u001b[0;34m]\u001b[0m\u001b[0;34m)\u001b[0m\u001b[0;34m)\u001b[0m\u001b[0;34m\u001b[0m\u001b[0;34m\u001b[0m\u001b[0m\n",
      "\u001b[0;32m~/anaconda3/lib/python3.7/site-packages/algosdk/v2client/algod.py\u001b[0m in \u001b[0;36msend_transaction\u001b[0;34m(self, txn, **kwargs)\u001b[0m\n\u001b[1;32m    171\u001b[0m         \"\"\"\n\u001b[1;32m    172\u001b[0m         return self.send_raw_transaction(encoding.msgpack_encode(txn),\n\u001b[0;32m--> 173\u001b[0;31m                                          **kwargs)\n\u001b[0m\u001b[1;32m    174\u001b[0m \u001b[0;34m\u001b[0m\u001b[0m\n\u001b[1;32m    175\u001b[0m     \u001b[0;32mdef\u001b[0m \u001b[0msend_raw_transaction\u001b[0m\u001b[0;34m(\u001b[0m\u001b[0mself\u001b[0m\u001b[0;34m,\u001b[0m \u001b[0mtxn\u001b[0m\u001b[0;34m,\u001b[0m \u001b[0;34m**\u001b[0m\u001b[0mkwargs\u001b[0m\u001b[0;34m)\u001b[0m\u001b[0;34m:\u001b[0m\u001b[0;34m\u001b[0m\u001b[0;34m\u001b[0m\u001b[0m\n",
      "\u001b[0;32m~/anaconda3/lib/python3.7/site-packages/algosdk/v2client/algod.py\u001b[0m in \u001b[0;36msend_raw_transaction\u001b[0;34m(self, txn, **kwargs)\u001b[0m\n\u001b[1;32m    187\u001b[0m         \u001b[0mreq\u001b[0m \u001b[0;34m=\u001b[0m \u001b[0;34m\"/transactions\"\u001b[0m\u001b[0;34m\u001b[0m\u001b[0;34m\u001b[0m\u001b[0m\n\u001b[1;32m    188\u001b[0m         \u001b[0mheaders\u001b[0m \u001b[0;34m=\u001b[0m \u001b[0;34m{\u001b[0m \u001b[0;34m'Content-Type'\u001b[0m\u001b[0;34m:\u001b[0m \u001b[0;34m'application/x-binary'\u001b[0m \u001b[0;34m}\u001b[0m\u001b[0;34m\u001b[0m\u001b[0;34m\u001b[0m\u001b[0m\n\u001b[0;32m--> 189\u001b[0;31m         \u001b[0;32mreturn\u001b[0m \u001b[0mself\u001b[0m\u001b[0;34m.\u001b[0m\u001b[0malgod_request\u001b[0m\u001b[0;34m(\u001b[0m\u001b[0;34m\"POST\"\u001b[0m\u001b[0;34m,\u001b[0m \u001b[0mreq\u001b[0m\u001b[0;34m,\u001b[0m \u001b[0mdata\u001b[0m\u001b[0;34m=\u001b[0m\u001b[0mtxn\u001b[0m\u001b[0;34m,\u001b[0m \u001b[0mheaders\u001b[0m\u001b[0;34m=\u001b[0m\u001b[0mheaders\u001b[0m\u001b[0;34m,\u001b[0m \u001b[0;34m**\u001b[0m\u001b[0mkwargs\u001b[0m\u001b[0;34m)\u001b[0m\u001b[0;34m[\u001b[0m\u001b[0;34m\"txId\"\u001b[0m\u001b[0;34m]\u001b[0m\u001b[0;34m\u001b[0m\u001b[0;34m\u001b[0m\u001b[0m\n\u001b[0m\u001b[1;32m    190\u001b[0m \u001b[0;34m\u001b[0m\u001b[0m\n\u001b[1;32m    191\u001b[0m     \u001b[0;32mdef\u001b[0m \u001b[0mpending_transactions\u001b[0m\u001b[0;34m(\u001b[0m\u001b[0mself\u001b[0m\u001b[0;34m,\u001b[0m \u001b[0mmax_txns\u001b[0m\u001b[0;34m=\u001b[0m\u001b[0;36m0\u001b[0m\u001b[0;34m,\u001b[0m \u001b[0mresponse_format\u001b[0m\u001b[0;34m=\u001b[0m\u001b[0;34m\"json\"\u001b[0m\u001b[0;34m,\u001b[0m \u001b[0;34m**\u001b[0m\u001b[0mkwargs\u001b[0m\u001b[0;34m)\u001b[0m\u001b[0;34m:\u001b[0m\u001b[0;34m\u001b[0m\u001b[0;34m\u001b[0m\u001b[0m\n",
      "\u001b[0;32m~/anaconda3/lib/python3.7/site-packages/algosdk/v2client/algod.py\u001b[0m in \u001b[0;36malgod_request\u001b[0;34m(self, method, requrl, params, data, headers, response_format)\u001b[0m\n\u001b[1;32m     77\u001b[0m                 \u001b[0;32mraise\u001b[0m \u001b[0merror\u001b[0m\u001b[0;34m.\u001b[0m\u001b[0mAlgodHTTPError\u001b[0m\u001b[0;34m(\u001b[0m\u001b[0mjson\u001b[0m\u001b[0;34m.\u001b[0m\u001b[0mloads\u001b[0m\u001b[0;34m(\u001b[0m\u001b[0me\u001b[0m\u001b[0;34m)\u001b[0m\u001b[0;34m[\u001b[0m\u001b[0;34m\"message\"\u001b[0m\u001b[0;34m]\u001b[0m\u001b[0;34m,\u001b[0m \u001b[0mcode\u001b[0m\u001b[0;34m)\u001b[0m\u001b[0;34m\u001b[0m\u001b[0;34m\u001b[0m\u001b[0m\n\u001b[1;32m     78\u001b[0m             \u001b[0;32mexcept\u001b[0m\u001b[0;34m:\u001b[0m\u001b[0;34m\u001b[0m\u001b[0;34m\u001b[0m\u001b[0m\n\u001b[0;32m---> 79\u001b[0;31m                 \u001b[0;32mraise\u001b[0m \u001b[0merror\u001b[0m\u001b[0;34m.\u001b[0m\u001b[0mAlgodHTTPError\u001b[0m\u001b[0;34m(\u001b[0m\u001b[0me\u001b[0m\u001b[0;34m,\u001b[0m \u001b[0mcode\u001b[0m\u001b[0;34m)\u001b[0m\u001b[0;34m\u001b[0m\u001b[0;34m\u001b[0m\u001b[0m\n\u001b[0m\u001b[1;32m     80\u001b[0m         \u001b[0;32mif\u001b[0m \u001b[0mresponse_format\u001b[0m \u001b[0;34m==\u001b[0m \u001b[0;34m\"json\"\u001b[0m\u001b[0;34m:\u001b[0m\u001b[0;34m\u001b[0m\u001b[0;34m\u001b[0m\u001b[0m\n\u001b[1;32m     81\u001b[0m             \u001b[0;32mtry\u001b[0m\u001b[0;34m:\u001b[0m\u001b[0;34m\u001b[0m\u001b[0;34m\u001b[0m\u001b[0m\n",
      "\u001b[0;31mAlgodHTTPError\u001b[0m: {\"message\":\"TransactionPool.Remember: transaction VQLM2IAPQ5QYMPPZLMSOGVEKDD6DKMJHV3KDVWZUZ5CY4YSKBQ4A: transaction rejected by ApprovalProgram\"}\n"
     ]
    }
   ],
   "source": [
    "optin_tx = transaction.ApplicationOptInTxn(funded_accounts[3]['pk'], params, app_id)\n",
    "algod_client.send_transaction(optin_tx.sign(funded_accounts[3]['sk']))\n",
    "\n",
    "optin_tx = transaction.ApplicationOptInTxn(funded_accounts[4]['pk'], params, app_id)\n",
    "algod_client.send_transaction(optin_tx.sign(funded_accounts[4]['sk']))"
   ]
  },
  {
   "cell_type": "code",
   "execution_count": 77,
   "metadata": {},
   "outputs": [
    {
     "data": {
      "text/plain": [
       "[{'id': 14966518,\n",
       "  'key-value': [{'key': 'UVZvdGVEZWNpc2lvbkNyZWRpdHM=',\n",
       "    'value': {'bytes': '', 'type': 2, 'uint': 50}}],\n",
       "  'schema': {'num-byte-slice': 1, 'num-uint': 1}},\n",
       " {'id': 14967091,\n",
       "  'key-value': [{'key': 'UVZvdGVEZWNpc2lvbkNyZWRpdHM=',\n",
       "    'value': {'bytes': '', 'type': 2, 'uint': 84}}],\n",
       "  'schema': {'num-byte-slice': 1, 'num-uint': 1}}]"
      ]
     },
     "execution_count": 77,
     "metadata": {},
     "output_type": "execute_result"
    }
   ],
   "source": [
    "local_storage = algod_client.account_info(funded_accounts[1]['pk'])['apps-local-state']\n",
    "local_storage"
   ]
  },
  {
   "cell_type": "code",
   "execution_count": 123,
   "metadata": {},
   "outputs": [
    {
     "data": {
      "text/plain": [
       "[{'id': 14959763,\n",
       "  'key-value': [{'key': 'UVZvdGVEZWNpc2lvbkNyZWRpdHM=',\n",
       "    'value': {'bytes': '', 'type': 2, 'uint': 128}}],\n",
       "  'schema': {'num-byte-slice': 1, 'num-uint': 1}},\n",
       " {'id': 14962264,\n",
       "  'key-value': [{'key': 'UVZvdGVEZWNpc2lvbkNyZWRpdHM=',\n",
       "    'value': {'bytes': '', 'type': 2, 'uint': 128}}],\n",
       "  'schema': {'num-byte-slice': 1, 'num-uint': 1}},\n",
       " {'id': 14962278,\n",
       "  'key-value': [{'key': 'UVZvdGVEZWNpc2lvbkNyZWRpdHM=',\n",
       "    'value': {'bytes': '', 'type': 2, 'uint': 128}}],\n",
       "  'schema': {'num-byte-slice': 1, 'num-uint': 1}},\n",
       " {'id': 14707630,\n",
       "  'key-value': [{'key': 'UVZvdGVEZWNpc2lvbkNyZWRpdHM=',\n",
       "    'value': {'bytes': '', 'type': 2, 'uint': 128}}],\n",
       "  'schema': {'num-byte-slice': 1, 'num-uint': 1}}]"
      ]
     },
     "execution_count": 123,
     "metadata": {},
     "output_type": "execute_result"
    }
   ],
   "source": [
    "local_storage = algod_client.account_info(funded_accounts[3]['pk'])['apps-local-state']\n",
    "local_storage"
   ]
  },
  {
   "cell_type": "code",
   "execution_count": 32,
   "metadata": {},
   "outputs": [
    {
     "data": {
      "text/plain": [
       "[{'id': 14959763,\n",
       "  'key-value': [{'key': 'UVZvdGVEZWNpc2lvbkNyZWRpdHM=',\n",
       "    'value': {'bytes': '', 'type': 2, 'uint': 186}}],\n",
       "  'schema': {'num-byte-slice': 1, 'num-uint': 1}},\n",
       " {'id': 14707630,\n",
       "  'key-value': [{'key': 'UVZvdGVEZWNpc2lvbkNyZWRpdHM=',\n",
       "    'value': {'bytes': '', 'type': 2, 'uint': 186}}],\n",
       "  'schema': {'num-byte-slice': 1, 'num-uint': 1}}]"
      ]
     },
     "execution_count": 32,
     "metadata": {},
     "output_type": "execute_result"
    }
   ],
   "source": [
    "local_storage = algod_client.account_info(funded_accounts[4]['pk'])['apps-local-state']\n",
    "local_storage"
   ]
  },
  {
   "cell_type": "code",
   "execution_count": 33,
   "metadata": {},
   "outputs": [],
   "source": [
    "# if we look at the asset balances of these accounts we can check that the voting credits are asset_coefficient * asset_balance \n",
    "# account 1 has already opted in too many apps, that's why it isn't here"
   ]
  },
  {
   "cell_type": "code",
   "execution_count": 34,
   "metadata": {},
   "outputs": [
    {
     "name": "stdout",
     "output_type": "stream",
     "text": [
      "[]\n",
      "[{'amount': 42, 'asset-id': 13164495, 'creator': 'WRXFDQL5GF5XVMMANEY25AQLNM4YJHYTOKRIURSD55BZAOH3G6XYHHFCWM', 'is-frozen': False}]\n",
      "[{'amount': 73, 'asset-id': 13164495, 'creator': 'WRXFDQL5GF5XVMMANEY25AQLNM4YJHYTOKRIURSD55BZAOH3G6XYHHFCWM', 'is-frozen': False}]\n",
      "[{'amount': 64, 'asset-id': 13164495, 'creator': 'WRXFDQL5GF5XVMMANEY25AQLNM4YJHYTOKRIURSD55BZAOH3G6XYHHFCWM', 'is-frozen': False}]\n",
      "[{'amount': 93, 'asset-id': 13164495, 'creator': 'WRXFDQL5GF5XVMMANEY25AQLNM4YJHYTOKRIURSD55BZAOH3G6XYHHFCWM', 'is-frozen': False}]\n"
     ]
    }
   ],
   "source": [
    "for acc in funded_accounts:\n",
    "    print(algod_client.account_info(acc['pk'])['assets'])"
   ]
  },
  {
   "cell_type": "code",
   "execution_count": 42,
   "metadata": {
    "collapsed": true
   },
   "outputs": [
    {
     "ename": "AlgodHTTPError",
     "evalue": "{\"message\":\"TransactionPool.Remember: transaction N3XCGIKJPRNOCUXH3GS5Q5LNTNKWYRZA5UILGLH6XOCO4UIBQNIQ: transaction rejected by ApprovalProgram\"}\n",
     "output_type": "error",
     "traceback": [
      "\u001b[0;31m---------------------------------------------------------------------------\u001b[0m",
      "\u001b[0;31mHTTPError\u001b[0m                                 Traceback (most recent call last)",
      "\u001b[0;32m~/anaconda3/lib/python3.7/site-packages/algosdk/v2client/algod.py\u001b[0m in \u001b[0;36malgod_request\u001b[0;34m(self, method, requrl, params, data, headers, response_format)\u001b[0m\n\u001b[1;32m     71\u001b[0m         \u001b[0;32mtry\u001b[0m\u001b[0;34m:\u001b[0m\u001b[0;34m\u001b[0m\u001b[0;34m\u001b[0m\u001b[0m\n\u001b[0;32m---> 72\u001b[0;31m             \u001b[0mresp\u001b[0m \u001b[0;34m=\u001b[0m \u001b[0murlopen\u001b[0m\u001b[0;34m(\u001b[0m\u001b[0mreq\u001b[0m\u001b[0;34m)\u001b[0m\u001b[0;34m\u001b[0m\u001b[0;34m\u001b[0m\u001b[0m\n\u001b[0m\u001b[1;32m     73\u001b[0m         \u001b[0;32mexcept\u001b[0m \u001b[0murllib\u001b[0m\u001b[0;34m.\u001b[0m\u001b[0merror\u001b[0m\u001b[0;34m.\u001b[0m\u001b[0mHTTPError\u001b[0m \u001b[0;32mas\u001b[0m \u001b[0me\u001b[0m\u001b[0;34m:\u001b[0m\u001b[0;34m\u001b[0m\u001b[0;34m\u001b[0m\u001b[0m\n",
      "\u001b[0;32m~/anaconda3/lib/python3.7/urllib/request.py\u001b[0m in \u001b[0;36murlopen\u001b[0;34m(url, data, timeout, cafile, capath, cadefault, context)\u001b[0m\n\u001b[1;32m    221\u001b[0m         \u001b[0mopener\u001b[0m \u001b[0;34m=\u001b[0m \u001b[0m_opener\u001b[0m\u001b[0;34m\u001b[0m\u001b[0;34m\u001b[0m\u001b[0m\n\u001b[0;32m--> 222\u001b[0;31m     \u001b[0;32mreturn\u001b[0m \u001b[0mopener\u001b[0m\u001b[0;34m.\u001b[0m\u001b[0mopen\u001b[0m\u001b[0;34m(\u001b[0m\u001b[0murl\u001b[0m\u001b[0;34m,\u001b[0m \u001b[0mdata\u001b[0m\u001b[0;34m,\u001b[0m \u001b[0mtimeout\u001b[0m\u001b[0;34m)\u001b[0m\u001b[0;34m\u001b[0m\u001b[0;34m\u001b[0m\u001b[0m\n\u001b[0m\u001b[1;32m    223\u001b[0m \u001b[0;34m\u001b[0m\u001b[0m\n",
      "\u001b[0;32m~/anaconda3/lib/python3.7/urllib/request.py\u001b[0m in \u001b[0;36mopen\u001b[0;34m(self, fullurl, data, timeout)\u001b[0m\n\u001b[1;32m    530\u001b[0m             \u001b[0mmeth\u001b[0m \u001b[0;34m=\u001b[0m \u001b[0mgetattr\u001b[0m\u001b[0;34m(\u001b[0m\u001b[0mprocessor\u001b[0m\u001b[0;34m,\u001b[0m \u001b[0mmeth_name\u001b[0m\u001b[0;34m)\u001b[0m\u001b[0;34m\u001b[0m\u001b[0;34m\u001b[0m\u001b[0m\n\u001b[0;32m--> 531\u001b[0;31m             \u001b[0mresponse\u001b[0m \u001b[0;34m=\u001b[0m \u001b[0mmeth\u001b[0m\u001b[0;34m(\u001b[0m\u001b[0mreq\u001b[0m\u001b[0;34m,\u001b[0m \u001b[0mresponse\u001b[0m\u001b[0;34m)\u001b[0m\u001b[0;34m\u001b[0m\u001b[0;34m\u001b[0m\u001b[0m\n\u001b[0m\u001b[1;32m    532\u001b[0m \u001b[0;34m\u001b[0m\u001b[0m\n",
      "\u001b[0;32m~/anaconda3/lib/python3.7/urllib/request.py\u001b[0m in \u001b[0;36mhttp_response\u001b[0;34m(self, request, response)\u001b[0m\n\u001b[1;32m    640\u001b[0m             response = self.parent.error(\n\u001b[0;32m--> 641\u001b[0;31m                 'http', request, response, code, msg, hdrs)\n\u001b[0m\u001b[1;32m    642\u001b[0m \u001b[0;34m\u001b[0m\u001b[0m\n",
      "\u001b[0;32m~/anaconda3/lib/python3.7/urllib/request.py\u001b[0m in \u001b[0;36merror\u001b[0;34m(self, proto, *args)\u001b[0m\n\u001b[1;32m    568\u001b[0m             \u001b[0margs\u001b[0m \u001b[0;34m=\u001b[0m \u001b[0;34m(\u001b[0m\u001b[0mdict\u001b[0m\u001b[0;34m,\u001b[0m \u001b[0;34m'default'\u001b[0m\u001b[0;34m,\u001b[0m \u001b[0;34m'http_error_default'\u001b[0m\u001b[0;34m)\u001b[0m \u001b[0;34m+\u001b[0m \u001b[0morig_args\u001b[0m\u001b[0;34m\u001b[0m\u001b[0;34m\u001b[0m\u001b[0m\n\u001b[0;32m--> 569\u001b[0;31m             \u001b[0;32mreturn\u001b[0m \u001b[0mself\u001b[0m\u001b[0;34m.\u001b[0m\u001b[0m_call_chain\u001b[0m\u001b[0;34m(\u001b[0m\u001b[0;34m*\u001b[0m\u001b[0margs\u001b[0m\u001b[0;34m)\u001b[0m\u001b[0;34m\u001b[0m\u001b[0;34m\u001b[0m\u001b[0m\n\u001b[0m\u001b[1;32m    570\u001b[0m \u001b[0;34m\u001b[0m\u001b[0m\n",
      "\u001b[0;32m~/anaconda3/lib/python3.7/urllib/request.py\u001b[0m in \u001b[0;36m_call_chain\u001b[0;34m(self, chain, kind, meth_name, *args)\u001b[0m\n\u001b[1;32m    502\u001b[0m             \u001b[0mfunc\u001b[0m \u001b[0;34m=\u001b[0m \u001b[0mgetattr\u001b[0m\u001b[0;34m(\u001b[0m\u001b[0mhandler\u001b[0m\u001b[0;34m,\u001b[0m \u001b[0mmeth_name\u001b[0m\u001b[0;34m)\u001b[0m\u001b[0;34m\u001b[0m\u001b[0;34m\u001b[0m\u001b[0m\n\u001b[0;32m--> 503\u001b[0;31m             \u001b[0mresult\u001b[0m \u001b[0;34m=\u001b[0m \u001b[0mfunc\u001b[0m\u001b[0;34m(\u001b[0m\u001b[0;34m*\u001b[0m\u001b[0margs\u001b[0m\u001b[0;34m)\u001b[0m\u001b[0;34m\u001b[0m\u001b[0;34m\u001b[0m\u001b[0m\n\u001b[0m\u001b[1;32m    504\u001b[0m             \u001b[0;32mif\u001b[0m \u001b[0mresult\u001b[0m \u001b[0;32mis\u001b[0m \u001b[0;32mnot\u001b[0m \u001b[0;32mNone\u001b[0m\u001b[0;34m:\u001b[0m\u001b[0;34m\u001b[0m\u001b[0;34m\u001b[0m\u001b[0m\n",
      "\u001b[0;32m~/anaconda3/lib/python3.7/urllib/request.py\u001b[0m in \u001b[0;36mhttp_error_default\u001b[0;34m(self, req, fp, code, msg, hdrs)\u001b[0m\n\u001b[1;32m    648\u001b[0m     \u001b[0;32mdef\u001b[0m \u001b[0mhttp_error_default\u001b[0m\u001b[0;34m(\u001b[0m\u001b[0mself\u001b[0m\u001b[0;34m,\u001b[0m \u001b[0mreq\u001b[0m\u001b[0;34m,\u001b[0m \u001b[0mfp\u001b[0m\u001b[0;34m,\u001b[0m \u001b[0mcode\u001b[0m\u001b[0;34m,\u001b[0m \u001b[0mmsg\u001b[0m\u001b[0;34m,\u001b[0m \u001b[0mhdrs\u001b[0m\u001b[0;34m)\u001b[0m\u001b[0;34m:\u001b[0m\u001b[0;34m\u001b[0m\u001b[0;34m\u001b[0m\u001b[0m\n\u001b[0;32m--> 649\u001b[0;31m         \u001b[0;32mraise\u001b[0m \u001b[0mHTTPError\u001b[0m\u001b[0;34m(\u001b[0m\u001b[0mreq\u001b[0m\u001b[0;34m.\u001b[0m\u001b[0mfull_url\u001b[0m\u001b[0;34m,\u001b[0m \u001b[0mcode\u001b[0m\u001b[0;34m,\u001b[0m \u001b[0mmsg\u001b[0m\u001b[0;34m,\u001b[0m \u001b[0mhdrs\u001b[0m\u001b[0;34m,\u001b[0m \u001b[0mfp\u001b[0m\u001b[0;34m)\u001b[0m\u001b[0;34m\u001b[0m\u001b[0;34m\u001b[0m\u001b[0m\n\u001b[0m\u001b[1;32m    650\u001b[0m \u001b[0;34m\u001b[0m\u001b[0m\n",
      "\u001b[0;31mHTTPError\u001b[0m: HTTP Error 400: Bad Request",
      "\nDuring handling of the above exception, another exception occurred:\n",
      "\u001b[0;31mAlgodHTTPError\u001b[0m                            Traceback (most recent call last)",
      "\u001b[0;32m~/anaconda3/lib/python3.7/site-packages/algosdk/v2client/algod.py\u001b[0m in \u001b[0;36malgod_request\u001b[0;34m(self, method, requrl, params, data, headers, response_format)\u001b[0m\n\u001b[1;32m     76\u001b[0m             \u001b[0;32mtry\u001b[0m\u001b[0;34m:\u001b[0m\u001b[0;34m\u001b[0m\u001b[0;34m\u001b[0m\u001b[0m\n\u001b[0;32m---> 77\u001b[0;31m                 \u001b[0;32mraise\u001b[0m \u001b[0merror\u001b[0m\u001b[0;34m.\u001b[0m\u001b[0mAlgodHTTPError\u001b[0m\u001b[0;34m(\u001b[0m\u001b[0mjson\u001b[0m\u001b[0;34m.\u001b[0m\u001b[0mloads\u001b[0m\u001b[0;34m(\u001b[0m\u001b[0me\u001b[0m\u001b[0;34m)\u001b[0m\u001b[0;34m[\u001b[0m\u001b[0;34m\"message\"\u001b[0m\u001b[0;34m]\u001b[0m\u001b[0;34m,\u001b[0m \u001b[0mcode\u001b[0m\u001b[0;34m)\u001b[0m\u001b[0;34m\u001b[0m\u001b[0;34m\u001b[0m\u001b[0m\n\u001b[0m\u001b[1;32m     78\u001b[0m             \u001b[0;32mexcept\u001b[0m\u001b[0;34m:\u001b[0m\u001b[0;34m\u001b[0m\u001b[0;34m\u001b[0m\u001b[0m\n",
      "\u001b[0;31mAlgodHTTPError\u001b[0m: TransactionPool.Remember: transaction N3XCGIKJPRNOCUXH3GS5Q5LNTNKWYRZA5UILGLH6XOCO4UIBQNIQ: transaction rejected by ApprovalProgram",
      "\nDuring handling of the above exception, another exception occurred:\n",
      "\u001b[0;31mAlgodHTTPError\u001b[0m                            Traceback (most recent call last)",
      "\u001b[0;32m<ipython-input-42-a375fc38c4a3>\u001b[0m in \u001b[0;36m<module>\u001b[0;34m\u001b[0m\n\u001b[1;32m      1\u001b[0m \u001b[0;31m# let's try opting in an account with no assets\u001b[0m\u001b[0;34m\u001b[0m\u001b[0;34m\u001b[0m\u001b[0;34m\u001b[0m\u001b[0m\n\u001b[1;32m      2\u001b[0m \u001b[0moptin_tx\u001b[0m \u001b[0;34m=\u001b[0m \u001b[0mtransaction\u001b[0m\u001b[0;34m.\u001b[0m\u001b[0mApplicationOptInTxn\u001b[0m\u001b[0;34m(\u001b[0m\u001b[0mfunded_accounts\u001b[0m\u001b[0;34m[\u001b[0m\u001b[0;36m0\u001b[0m\u001b[0;34m]\u001b[0m\u001b[0;34m[\u001b[0m\u001b[0;34m'pk'\u001b[0m\u001b[0;34m]\u001b[0m\u001b[0;34m,\u001b[0m \u001b[0mparams\u001b[0m\u001b[0;34m,\u001b[0m \u001b[0mapp_id\u001b[0m\u001b[0;34m)\u001b[0m\u001b[0;34m\u001b[0m\u001b[0;34m\u001b[0m\u001b[0m\n\u001b[0;32m----> 3\u001b[0;31m \u001b[0malgod_client\u001b[0m\u001b[0;34m.\u001b[0m\u001b[0msend_transaction\u001b[0m\u001b[0;34m(\u001b[0m\u001b[0moptin_tx\u001b[0m\u001b[0;34m.\u001b[0m\u001b[0msign\u001b[0m\u001b[0;34m(\u001b[0m\u001b[0mfunded_accounts\u001b[0m\u001b[0;34m[\u001b[0m\u001b[0;36m0\u001b[0m\u001b[0;34m]\u001b[0m\u001b[0;34m[\u001b[0m\u001b[0;34m'sk'\u001b[0m\u001b[0;34m]\u001b[0m\u001b[0;34m)\u001b[0m\u001b[0;34m)\u001b[0m\u001b[0;34m\u001b[0m\u001b[0;34m\u001b[0m\u001b[0m\n\u001b[0m",
      "\u001b[0;32m~/anaconda3/lib/python3.7/site-packages/algosdk/v2client/algod.py\u001b[0m in \u001b[0;36msend_transaction\u001b[0;34m(self, txn, **kwargs)\u001b[0m\n\u001b[1;32m    164\u001b[0m \u001b[0;34m\u001b[0m\u001b[0m\n\u001b[1;32m    165\u001b[0m         \u001b[0mArgs\u001b[0m\u001b[0;34m:\u001b[0m\u001b[0;34m\u001b[0m\u001b[0;34m\u001b[0m\u001b[0m\n\u001b[0;32m--> 166\u001b[0;31m             \u001b[0mtxn\u001b[0m \u001b[0;34m(\u001b[0m\u001b[0mSignedTransaction\u001b[0m \u001b[0;32mor\u001b[0m \u001b[0mMultisigTransaction\u001b[0m\u001b[0;34m)\u001b[0m\u001b[0;34m:\u001b[0m \u001b[0mtransaction\u001b[0m \u001b[0mto\u001b[0m \u001b[0msend\u001b[0m\u001b[0;34m\u001b[0m\u001b[0;34m\u001b[0m\u001b[0m\n\u001b[0m\u001b[1;32m    167\u001b[0m             \u001b[0mrequest_header\u001b[0m \u001b[0;34m(\u001b[0m\u001b[0mdict\u001b[0m\u001b[0;34m,\u001b[0m \u001b[0moptional\u001b[0m\u001b[0;34m)\u001b[0m\u001b[0;34m:\u001b[0m \u001b[0madditional\u001b[0m \u001b[0mheader\u001b[0m \u001b[0;32mfor\u001b[0m \u001b[0mrequest\u001b[0m\u001b[0;34m\u001b[0m\u001b[0;34m\u001b[0m\u001b[0m\n\u001b[1;32m    168\u001b[0m \u001b[0;34m\u001b[0m\u001b[0m\n",
      "\u001b[0;32m~/anaconda3/lib/python3.7/site-packages/algosdk/v2client/algod.py\u001b[0m in \u001b[0;36msend_raw_transaction\u001b[0;34m(self, txn, **kwargs)\u001b[0m\n\u001b[1;32m    180\u001b[0m             \u001b[0mtxn\u001b[0m \u001b[0;34m(\u001b[0m\u001b[0mstr\u001b[0m\u001b[0;34m)\u001b[0m\u001b[0;34m:\u001b[0m \u001b[0mtransaction\u001b[0m \u001b[0mto\u001b[0m \u001b[0msend\u001b[0m\u001b[0;34m,\u001b[0m \u001b[0mencoded\u001b[0m \u001b[0;32min\u001b[0m \u001b[0mbase64\u001b[0m\u001b[0;34m\u001b[0m\u001b[0;34m\u001b[0m\u001b[0m\n\u001b[1;32m    181\u001b[0m             \u001b[0mrequest_header\u001b[0m \u001b[0;34m(\u001b[0m\u001b[0mdict\u001b[0m\u001b[0;34m,\u001b[0m \u001b[0moptional\u001b[0m\u001b[0;34m)\u001b[0m\u001b[0;34m:\u001b[0m \u001b[0madditional\u001b[0m \u001b[0mheader\u001b[0m \u001b[0;32mfor\u001b[0m \u001b[0mrequest\u001b[0m\u001b[0;34m\u001b[0m\u001b[0;34m\u001b[0m\u001b[0m\n\u001b[0;32m--> 182\u001b[0;31m \u001b[0;34m\u001b[0m\u001b[0m\n\u001b[0m\u001b[1;32m    183\u001b[0m         \u001b[0mReturns\u001b[0m\u001b[0;34m:\u001b[0m\u001b[0;34m\u001b[0m\u001b[0;34m\u001b[0m\u001b[0m\n\u001b[1;32m    184\u001b[0m             \u001b[0mstr\u001b[0m\u001b[0;34m:\u001b[0m \u001b[0mtransaction\u001b[0m \u001b[0mID\u001b[0m\u001b[0;34m\u001b[0m\u001b[0;34m\u001b[0m\u001b[0m\n",
      "\u001b[0;32m~/anaconda3/lib/python3.7/site-packages/algosdk/v2client/algod.py\u001b[0m in \u001b[0;36malgod_request\u001b[0;34m(self, method, requrl, params, data, headers, response_format)\u001b[0m\n\u001b[1;32m     77\u001b[0m                 \u001b[0;32mraise\u001b[0m \u001b[0merror\u001b[0m\u001b[0;34m.\u001b[0m\u001b[0mAlgodHTTPError\u001b[0m\u001b[0;34m(\u001b[0m\u001b[0mjson\u001b[0m\u001b[0;34m.\u001b[0m\u001b[0mloads\u001b[0m\u001b[0;34m(\u001b[0m\u001b[0me\u001b[0m\u001b[0;34m)\u001b[0m\u001b[0;34m[\u001b[0m\u001b[0;34m\"message\"\u001b[0m\u001b[0;34m]\u001b[0m\u001b[0;34m,\u001b[0m \u001b[0mcode\u001b[0m\u001b[0;34m)\u001b[0m\u001b[0;34m\u001b[0m\u001b[0;34m\u001b[0m\u001b[0m\n\u001b[1;32m     78\u001b[0m             \u001b[0;32mexcept\u001b[0m\u001b[0;34m:\u001b[0m\u001b[0;34m\u001b[0m\u001b[0;34m\u001b[0m\u001b[0m\n\u001b[0;32m---> 79\u001b[0;31m                 \u001b[0;32mraise\u001b[0m \u001b[0merror\u001b[0m\u001b[0;34m.\u001b[0m\u001b[0mAlgodHTTPError\u001b[0m\u001b[0;34m(\u001b[0m\u001b[0me\u001b[0m\u001b[0;34m,\u001b[0m \u001b[0mcode\u001b[0m\u001b[0;34m)\u001b[0m\u001b[0;34m\u001b[0m\u001b[0;34m\u001b[0m\u001b[0m\n\u001b[0m\u001b[1;32m     80\u001b[0m         \u001b[0;32mif\u001b[0m \u001b[0mresponse_format\u001b[0m \u001b[0;34m==\u001b[0m \u001b[0;34m\"json\"\u001b[0m\u001b[0;34m:\u001b[0m\u001b[0;34m\u001b[0m\u001b[0;34m\u001b[0m\u001b[0m\n\u001b[1;32m     81\u001b[0m             \u001b[0;32mtry\u001b[0m\u001b[0;34m:\u001b[0m\u001b[0;34m\u001b[0m\u001b[0;34m\u001b[0m\u001b[0m\n",
      "\u001b[0;31mAlgodHTTPError\u001b[0m: {\"message\":\"TransactionPool.Remember: transaction N3XCGIKJPRNOCUXH3GS5Q5LNTNKWYRZA5UILGLH6XOCO4UIBQNIQ: transaction rejected by ApprovalProgram\"}\n"
     ]
    }
   ],
   "source": [
    "# let's try opting in an account with no assets \n",
    "optin_tx = transaction.ApplicationOptInTxn(funded_accounts[0]['pk'], params, app_id)\n",
    "algod_client.send_transaction(optin_tx.sign(funded_accounts[0]['sk']))\n",
    "# this tx is rejected by the approval program "
   ]
  },
  {
   "cell_type": "markdown",
   "metadata": {},
   "source": [
    "## Voting"
   ]
  },
  {
   "cell_type": "code",
   "execution_count": 38,
   "metadata": {},
   "outputs": [],
   "source": [
    "## negative vote "
   ]
  },
  {
   "cell_type": "code",
   "execution_count": 89,
   "metadata": {},
   "outputs": [],
   "source": [
    "option_name = \"first\"\n",
    "votes = 3\n",
    "sign = \"-\"\n",
    "app_args = [\"vote\".encode(\"utf-8\"), option_name.encode(\"utf-8\"), votes.to_bytes(2, \"big\"), sign.encode(\"utf-8\")]\n",
    "\n",
    "# create unsigned transaction\n",
    "call_tx = transaction.ApplicationNoOpTxn(funded_accounts[1]['pk'], params, app_id, app_args)\n",
    "call_txid = algod_client.send_transaction(call_tx.sign(funded_accounts[1]['sk']))"
   ]
  },
  {
   "cell_type": "code",
   "execution_count": 92,
   "metadata": {},
   "outputs": [
    {
     "data": {
      "text/plain": [
       "[{'id': 14966518,\n",
       "  'key-value': [{'key': 'UVZvdGVEZWNpc2lvbkNyZWRpdHM=',\n",
       "    'value': {'bytes': '', 'type': 2, 'uint': 50}}],\n",
       "  'schema': {'num-byte-slice': 1, 'num-uint': 1}},\n",
       " {'id': 14967091,\n",
       "  'key-value': [{'key': 'UVZvdGVEZWNpc2lvbkNyZWRpdHM=',\n",
       "    'value': {'bytes': '', 'type': 2, 'uint': 75}}],\n",
       "  'schema': {'num-byte-slice': 1, 'num-uint': 1}}]"
      ]
     },
     "execution_count": 92,
     "metadata": {},
     "output_type": "execute_result"
    }
   ],
   "source": [
    "# balance has gone down by the square of the amount \n",
    "local_storage = algod_client.account_info(funded_accounts[1]['pk'])['apps-local-state']\n",
    "local_storage"
   ]
  },
  {
   "cell_type": "code",
   "execution_count": 93,
   "metadata": {},
   "outputs": [
    {
     "data": {
      "text/plain": [
       "[[{'key': 'option_new_three',\n",
       "   'value': {'bytes': '', 'type': 2, 'uint': 9223372036854775808}},\n",
       "  {'key': 'Creator',\n",
       "   'value': {'bytes': 'hyb3MVOCjsppEShlyLfYUiWAzVOGy6Yb56azjJNJ16E=',\n",
       "    'type': 1,\n",
       "    'uint': 0}},\n",
       "  {'key': 'option_second',\n",
       "   'value': {'bytes': '', 'type': 2, 'uint': 9223372036854775808}},\n",
       "  {'key': 'option_third',\n",
       "   'value': {'bytes': '', 'type': 2, 'uint': 9223372036854775808}},\n",
       "  {'key': 'option_new_two',\n",
       "   'value': {'bytes': '', 'type': 2, 'uint': 9223372036854775808}},\n",
       "  {'key': 'Name',\n",
       "   'value': {'bytes': 'bXVjaGRlY2lzaW9u', 'type': 1, 'uint': 0}},\n",
       "  {'key': 'asset_coefficient', 'value': {'bytes': '', 'type': 2, 'uint': 2}},\n",
       "  {'key': 'asset_id', 'value': {'bytes': '', 'type': 2, 'uint': 13164495}},\n",
       "  {'key': 'voting_start_time',\n",
       "   'value': {'bytes': '', 'type': 2, 'uint': 1616512381}},\n",
       "  {'key': 'option_new_one',\n",
       "   'value': {'bytes': '', 'type': 2, 'uint': 9223372036854775808}},\n",
       "  {'key': 'voting_end_time',\n",
       "   'value': {'bytes': '', 'type': 2, 'uint': 1616512681}},\n",
       "  {'key': 'option_first',\n",
       "   'value': {'bytes': '', 'type': 2, 'uint': 9223372036854775805}},\n",
       "  {'key': 'option_new_four',\n",
       "   'value': {'bytes': '', 'type': 2, 'uint': 9223372036854775808}}]]"
      ]
     },
     "execution_count": 93,
     "metadata": {},
     "output_type": "execute_result"
    }
   ],
   "source": [
    "# vote tally has gone up by the right amount \n",
    "global_state = decode_keys(read_global_state(algod_client, funded_accounts[0]['pk'], app_id))\n",
    "global_state"
   ]
  },
  {
   "cell_type": "code",
   "execution_count": 47,
   "metadata": {},
   "outputs": [],
   "source": [
    "# TODO 2 decimal places - this should actually be handled by the sdk together with the asset_coefficient "
   ]
  },
  {
   "cell_type": "code",
   "execution_count": 39,
   "metadata": {},
   "outputs": [],
   "source": [
    "## positive vote "
   ]
  },
  {
   "cell_type": "code",
   "execution_count": 94,
   "metadata": {},
   "outputs": [],
   "source": [
    "option_name = \"first\"\n",
    "votes = 5\n",
    "sign = \"+\"\n",
    "app_args = [\"vote\".encode(\"utf-8\"), option_name.encode(\"utf-8\"), votes.to_bytes(2, \"big\"), sign.encode(\"utf-8\")]\n",
    "\n",
    "# create unsigned transaction\n",
    "call_tx = transaction.ApplicationNoOpTxn(funded_accounts[1]['pk'], params, app_id, app_args)\n",
    "call_txid = algod_client.send_transaction(call_tx.sign(funded_accounts[1]['sk']))"
   ]
  },
  {
   "cell_type": "code",
   "execution_count": 96,
   "metadata": {},
   "outputs": [
    {
     "data": {
      "text/plain": [
       "[{'id': 14967091,\n",
       "  'key-value': [{'key': 'UVZvdGVEZWNpc2lvbkNyZWRpdHM=',\n",
       "    'value': {'bytes': '', 'type': 2, 'uint': 50}}],\n",
       "  'schema': {'num-byte-slice': 1, 'num-uint': 1}},\n",
       " {'id': 14966518,\n",
       "  'key-value': [{'key': 'UVZvdGVEZWNpc2lvbkNyZWRpdHM=',\n",
       "    'value': {'bytes': '', 'type': 2, 'uint': 50}}],\n",
       "  'schema': {'num-byte-slice': 1, 'num-uint': 1}}]"
      ]
     },
     "execution_count": 96,
     "metadata": {},
     "output_type": "execute_result"
    }
   ],
   "source": [
    "# balance has gone down by the square of the amount \n",
    "local_storage = algod_client.account_info(funded_accounts[1]['pk'])['apps-local-state']\n",
    "local_storage"
   ]
  },
  {
   "cell_type": "code",
   "execution_count": 97,
   "metadata": {},
   "outputs": [
    {
     "data": {
      "text/plain": [
       "[[{'key': 'option_new_three',\n",
       "   'value': {'bytes': '', 'type': 2, 'uint': 9223372036854775808}},\n",
       "  {'key': 'Creator',\n",
       "   'value': {'bytes': 'hyb3MVOCjsppEShlyLfYUiWAzVOGy6Yb56azjJNJ16E=',\n",
       "    'type': 1,\n",
       "    'uint': 0}},\n",
       "  {'key': 'voting_end_time',\n",
       "   'value': {'bytes': '', 'type': 2, 'uint': 1616512681}},\n",
       "  {'key': 'option_new_four',\n",
       "   'value': {'bytes': '', 'type': 2, 'uint': 9223372036854775808}},\n",
       "  {'key': 'asset_id', 'value': {'bytes': '', 'type': 2, 'uint': 13164495}},\n",
       "  {'key': 'voting_start_time',\n",
       "   'value': {'bytes': '', 'type': 2, 'uint': 1616512381}},\n",
       "  {'key': 'Name',\n",
       "   'value': {'bytes': 'bXVjaGRlY2lzaW9u', 'type': 1, 'uint': 0}},\n",
       "  {'key': 'asset_coefficient', 'value': {'bytes': '', 'type': 2, 'uint': 2}},\n",
       "  {'key': 'option_first',\n",
       "   'value': {'bytes': '', 'type': 2, 'uint': 9223372036854775810}},\n",
       "  {'key': 'option_third',\n",
       "   'value': {'bytes': '', 'type': 2, 'uint': 9223372036854775808}},\n",
       "  {'key': 'option_new_two',\n",
       "   'value': {'bytes': '', 'type': 2, 'uint': 9223372036854775808}},\n",
       "  {'key': 'option_new_one',\n",
       "   'value': {'bytes': '', 'type': 2, 'uint': 9223372036854775808}},\n",
       "  {'key': 'option_second',\n",
       "   'value': {'bytes': '', 'type': 2, 'uint': 9223372036854775808}}]]"
      ]
     },
     "execution_count": 97,
     "metadata": {},
     "output_type": "execute_result"
    }
   ],
   "source": [
    "# vote tally has gone up by the right amount \n",
    "global_state = decode_keys(read_global_state(algod_client, funded_accounts[0]['pk'], app_id))\n",
    "global_state"
   ]
  },
  {
   "cell_type": "code",
   "execution_count": null,
   "metadata": {},
   "outputs": [],
   "source": []
  }
 ],
 "metadata": {
  "kernelspec": {
   "display_name": "Python 3",
   "language": "python",
   "name": "python3"
  },
  "language_info": {
   "codemirror_mode": {
    "name": "ipython",
    "version": 3
   },
   "file_extension": ".py",
   "mimetype": "text/x-python",
   "name": "python",
   "nbconvert_exporter": "python",
   "pygments_lexer": "ipython3",
   "version": "3.7.4"
  }
 },
 "nbformat": 4,
 "nbformat_minor": 2
}
