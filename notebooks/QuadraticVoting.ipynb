{
 "cells": [
  {
   "cell_type": "code",
   "execution_count": 1,
   "metadata": {},
   "outputs": [
    {
     "data": {
      "text/html": [
       "<style>.container { margin-left: 2.5% !important; width:95%; }</style>"
      ],
      "text/plain": [
       "<IPython.core.display.HTML object>"
      ]
     },
     "metadata": {},
     "output_type": "display_data"
    }
   ],
   "source": [
    "# used to widen the cells \n",
    "from IPython.core.display import display, HTML\n",
    "display(HTML(\"<style>.container { margin-left: 2.5% !important; width:95%; }</style>\"))\n"
   ]
  },
  {
   "cell_type": "code",
   "execution_count": 2,
   "metadata": {},
   "outputs": [],
   "source": [
    "from algosdk.v2client import algod\n",
    "from algosdk import mnemonic\n",
    "from algosdk import transaction\n",
    "\n",
    "algod_address = \"https://testnet-algorand.api.purestake.io/ps2\"\n",
    "algod_token = \"fFG6R4JTFq9Hh8RjZy130aMRdUhmOYp68hi9nm4L\"\n",
    "headers = {\n",
    "   \"X-API-Key\": algod_token,\n",
    "}\n",
    "\n",
    "algod_client = algod.AlgodClient(algod_token, algod_address, headers);\n"
   ]
  },
  {
   "cell_type": "code",
   "execution_count": 3,
   "metadata": {},
   "outputs": [],
   "source": [
    "funded_mnemonics= [\"rookie similar wire owner wash once fish mosquito glad coffee family venture adult funny melt gas inspire tuna buzz sell dignity pottery gold able bracket\",\n",
    "                  \"narrow mimic suffer top suspect follow menu broccoli try snake meat erase napkin lucky client forget sense bread glad eight uniform bacon code about crack\", \n",
    "                  \"city truth device clog grocery sea safe slide glove borrow swap capable trash shaft vast start space distance calm wire hub crush dose ability army\", \n",
    "                  \"unknown arctic antenna country credit december ill practice lawsuit today athlete rescue exit swarm fitness strong minimum soldier wide coffee vacuum piece coil absorb unable\", \n",
    "                  \"gravity adult destroy demand margin coast culture base adjust east banana certain happy daughter bless fiscal fiscal eye forget inspire brain banner evil able bonus\"]\n",
    "\n",
    "funded_accounts = [{'sk': mnemonic.to_private_key(memo), 'pk': mnemonic.to_public_key(memo)} for memo in funded_mnemonics]"
   ]
  },
  {
   "cell_type": "code",
   "execution_count": 4,
   "metadata": {},
   "outputs": [],
   "source": [
    "def compile(approval_filename='approval.teal', clear_state_filename='clear_state.teal'):\n",
    "\n",
    "    # pyteal to teal \n",
    "    with open(approval_filename, 'w') as f:\n",
    "        compiled = compileTeal(approval_program(), Mode.Application)\n",
    "        f.write(compiled)\n",
    "\n",
    "    with open(clear_state_filename, 'w') as f:\n",
    "        compiled = compileTeal(clear_state_program(), Mode.Application)\n",
    "        f.write(compiled)\n",
    "\n",
    "    # teal to bytecode \n",
    "    stdout, stderr = execute([\"goal\", \"clerk\", \"compile\", \"-o\", approval_filename+'.tok', approval_filename])\n",
    "    if stderr != \"\":\n",
    "        print(stderr)\n",
    "        raise\n",
    "    elif len(stdout) < 59:\n",
    "        print(\"error in compile teal\")\n",
    "        raise\n",
    "\n",
    "    stdout, stderr = execute([\"goal\", \"clerk\", \"compile\", \"-o\", clear_state_filename+'.tok', clear_state_filename])\n",
    "    if stderr != \"\":\n",
    "        print(stderr)\n",
    "        raise\n",
    "    elif len(stdout) < 59:\n",
    "        print(\"error in compile teal\")\n",
    "        raise\n",
    "\n",
    "    with open(approval_filename+'.tok', 'rb') as f:\n",
    "        approval_bytes = f.read()\n",
    "\n",
    "    with open(clear_state_filename+'.tok', 'rb') as f: \n",
    "        clear_state_bytes = f.read() \n",
    "        \n",
    "    return approval_bytes, clear_state_bytes"
   ]
  },
  {
   "cell_type": "code",
   "execution_count": 5,
   "metadata": {},
   "outputs": [],
   "source": [
    "# read app global state\n",
    "def read_global_state(client, addr, app_id):   \n",
    "    results = client.account_info(addr)\n",
    "    apps_created = results['created-apps']\n",
    "    global_states = []\n",
    "    for app in apps_created :\n",
    "        if app['id'] == app_id :\n",
    "            global_states.append(app['params']['global-state'])\n",
    "            # print(f\"global_state for app_id {app_id}: \", app['params']['global-state'])\n",
    "    return global_states "
   ]
  },
  {
   "cell_type": "code",
   "execution_count": 6,
   "metadata": {},
   "outputs": [],
   "source": [
    "import base64 \n",
    "def decode_keys(s):\n",
    "    for entry in s[0]:\n",
    "        entry['key'] = base64.b64decode(entry['key']).decode('utf-8')\n",
    "    return s"
   ]
  },
  {
   "cell_type": "code",
   "execution_count": 17,
   "metadata": {},
   "outputs": [],
   "source": [
    "from pyteal import *    \n",
    "    \n",
    "def approval_program():     \n",
    "    VOTING_CREDIT_SYM = Bytes(\"QVoteDecisionCredits\")\n",
    "    OPTION_PREFIX = Bytes(\"option_\")\n",
    "    NULL_OPTION = Bytes(\"NULL_OPTION\")\n",
    "    ZERO = Int(2**63)     # to have neative numbers \n",
    "    MINUS = Bytes(\"-\")\n",
    "    \n",
    "    arg_num = Txn.application_args.length()\n",
    "    \n",
    "    on_closeout = Return(Int(1))\n",
    "    \n",
    "    asset_id = App.globalGet(Bytes(\"asset_id\"))\n",
    "    asset_balance = AssetHolding.balance(Int(0), asset_id) \n",
    "    asset_coeff = App.globalGet(Bytes(\"asset_coefficient\"))\n",
    "    on_optin = Seq([     # TODO if not before voting start time \n",
    "        asset_balance, \n",
    "        If(asset_balance.hasValue(),  # if sender has some tokens, store it, otherwise return 0     \n",
    "           Seq([App.localPut(Int(0), VOTING_CREDIT_SYM, Mul(asset_balance.value(), asset_coeff)), Return(Int(1))]),      \n",
    "           Return(Int(0))\n",
    "        ) \n",
    "    ])  \n",
    "    \n",
    "    option0 = Concat(OPTION_PREFIX, Txn.application_args[1])\n",
    "    option0_tally = App.globalGetEx(Int(0), option0)            # current total of votes for this option\n",
    "    option0_votes = Btoi(Txn.application_args[2])               # how much the user wants to vote for this option \n",
    "    option0_votes_sign = Bytes(Txn.application_args[3])\n",
    "    credit_balance = App.localGet(Int(0), VOTING_CREDIT_SYM)\n",
    "    on_vote = Seq([ \n",
    "        option0_tally, \n",
    "        If(option0_tally.hasValue(),      # if user chose a valid option \n",
    "           Seq([\n",
    "               App.localPut(Int(0), VOTING_CREDIT_SYM, credit_balance-Mul(option0_votes, option0_votes)),     # update balance\n",
    "               If(Ge(credit_balance, Int(0)),             # does credit_balance this get re-evaluated? \n",
    "                    If(option0_votes_sign == MINUS,\n",
    "                       App.globalPut(option0, option0_tally.value()-option0_votes),    \n",
    "                       App.globalPut(option0, option0_tally.value()+option0_votes), \n",
    "                      )\n",
    "                    Return(Int(0))\n",
    "                 ),    \n",
    "               Return(Int(1))\n",
    "           ]),\n",
    "           Return(Int(0))\n",
    "          )\n",
    "    ])\n",
    "    \n",
    "    \n",
    "    # add up to 5 options at a time. \n",
    "    on_add_options =  Seq([\n",
    "        If(Txn.application_args[1] != NULL_OPTION, \n",
    "           Seq([App.globalPut(Concat(OPTION_PREFIX, Txn.application_args[1]), ZERO)]),\n",
    "           Return(Int(1))\n",
    "        ),\n",
    "        If(Txn.application_args[2] != NULL_OPTION, \n",
    "          Seq([App.globalPut(Concat(OPTION_PREFIX, Txn.application_args[2]), ZERO)]),\n",
    "           Return(Int(1))\n",
    "        ),\n",
    "        If(Txn.application_args[3] != NULL_OPTION, \n",
    "          Seq([App.globalPut(Concat(OPTION_PREFIX, Txn.application_args[3]), ZERO)]),\n",
    "           Return(Int(1))\n",
    "        ),\n",
    "        If(Txn.application_args[4] != NULL_OPTION, \n",
    "          Seq([App.globalPut(Concat(OPTION_PREFIX, Txn.application_args[4]), ZERO)]),\n",
    "           Return(Int(1))\n",
    "        ),\n",
    "        If(Txn.application_args[5] != NULL_OPTION, \n",
    "          Seq([App.globalPut(Concat(OPTION_PREFIX, Txn.application_args[5]), ZERO)]),\n",
    "           Return(Int(1))\n",
    "        ), \n",
    "        Return(Int(1))\n",
    "    ])\n",
    "    \n",
    "    \n",
    "    on_creation = Seq([    \n",
    "        App.globalPut(Bytes(\"Creator\"), Txn.sender()),    \n",
    "        App.globalPut(Bytes(\"Name\"), Txn.application_args[0]),\n",
    "        App.globalPut(Bytes(\"asset_id\"), Btoi(Txn.application_args[6])),  # should be Int \n",
    "        App.globalPut(Bytes(\"asset_coefficient\"), Btoi(Txn.application_args[7])), \n",
    "        on_add_options,   # record the options \n",
    "        Return(Int(1))\n",
    "    ])    \n",
    "    \n",
    "        \n",
    "    program = Cond(    \n",
    "            [Txn.application_id() == Int(0), on_creation],    \n",
    "            [Txn.on_completion() == OnComplete.DeleteApplication, Return(Int(0))], \n",
    "            [Txn.on_completion() == OnComplete.UpdateApplication, Return(Int(0))],    \n",
    "            [Txn.on_completion() == OnComplete.OptIn, on_optin],\n",
    "            [Txn.application_args[0] == Bytes(\"vote\"), on_vote],\n",
    "            [Txn.application_args[0] == Bytes(\"add_options\"), on_add_options]\n",
    "    )    \n",
    "    return program    \n",
    "    \n",
    "    \n",
    "def clear_state_program():     \n",
    "    program = Return(Int(1))\n",
    "    return program    \n"
   ]
  },
  {
   "cell_type": "markdown",
   "metadata": {},
   "source": [
    "## Deploy"
   ]
  },
  {
   "cell_type": "code",
   "execution_count": 18,
   "metadata": {},
   "outputs": [],
   "source": [
    "from algosdk.future import transaction\n",
    "from algosdk.future.transaction import StateSchema\n",
    "from algosdk.future.transaction import OnComplete as onComplete"
   ]
  },
  {
   "cell_type": "code",
   "execution_count": 33,
   "metadata": {},
   "outputs": [],
   "source": [
    "params = algod_client.suggested_params()\n",
    "params.falt_fee = True\n",
    "params.fee = 1000"
   ]
  },
  {
   "cell_type": "code",
   "execution_count": 19,
   "metadata": {},
   "outputs": [
    {
     "data": {
      "text/plain": [
       "'2LIZ5WCJJ3VFWZK7JP2KMD6TQ4LCKB4FNTDYVNREQ7ZCLZUYEEFQ'"
      ]
     },
     "execution_count": 19,
     "metadata": {},
     "output_type": "execute_result"
    }
   ],
   "source": [
    "asset_id = 13164495    # this asset is used to compare \n",
    "asset_coefficient = 2    # how many voting coins you get for each token of the asset you own \n",
    "\n",
    "approval_bytes, clear_state_bytes = compile()\n",
    "\n",
    "decision_name = 'muchdecision'\n",
    "\n",
    "local_schema = StateSchema(num_uints=1, num_byte_slices=1)    \n",
    "global_schema = StateSchema(num_uints=61, num_byte_slices=3)     # maximum sum is 64\n",
    "\n",
    "on_complete = onComplete(0)\n",
    "app_create_txn = transaction.ApplicationCreateTxn(\n",
    "    funded_accounts[4]['pk'], \n",
    "    params, \n",
    "    on_complete, \n",
    "    approval_bytes, \n",
    "    clear_state_bytes, \n",
    "    global_schema, \n",
    "    local_schema,\n",
    "    # you always need to submit this many options. you can use NULL_OPTION to ingore an option \n",
    "    app_args = [decision_name.encode('utf-8'), \n",
    "                \"first\".encode('utf-8'),\n",
    "                \"second\".encode('utf-8'),\n",
    "                \"third\".encode('utf-8'), \n",
    "                \"NULL_OPTION\".encode('utf-8'),\n",
    "                \"NULL_OPTION\".encode('utf-8'), \n",
    "                asset_id.to_bytes(3, 'big'),\n",
    "                asset_coefficient.to_bytes(2, 'big')]\n",
    ")\n",
    "\n",
    "app_create_txn_signed = app_create_txn.sign(funded_accounts[4]['sk'])\n",
    "txid = algod_client.send_transaction(app_create_txn_signed)\n",
    "txid"
   ]
  },
  {
   "cell_type": "code",
   "execution_count": 20,
   "metadata": {},
   "outputs": [
    {
     "data": {
      "text/plain": [
       "14707630"
      ]
     },
     "execution_count": 20,
     "metadata": {},
     "output_type": "execute_result"
    }
   ],
   "source": [
    "app_id = algod_client.pending_transaction_info(txid)['application-index']\n",
    "app_id"
   ]
  },
  {
   "cell_type": "code",
   "execution_count": 24,
   "metadata": {},
   "outputs": [
    {
     "data": {
      "text/plain": [
       "[[{'key': 'option_first', 'value': {'bytes': '', 'type': 2, 'uint': 0}},\n",
       "  {'key': 'option_second', 'value': {'bytes': '', 'type': 2, 'uint': 0}},\n",
       "  {'key': 'option_third', 'value': {'bytes': '', 'type': 2, 'uint': 0}},\n",
       "  {'key': 'Creator',\n",
       "   'value': {'bytes': 'hmXzebxJfQ9OITtFlPuRxlG9X6Sb/YeOo4wVxBw0Bh0=',\n",
       "    'type': 1,\n",
       "    'uint': 0}},\n",
       "  {'key': 'Name',\n",
       "   'value': {'bytes': 'bXVjaGRlY2lzaW9u', 'type': 1, 'uint': 0}},\n",
       "  {'key': 'asset_id', 'value': {'bytes': '', 'type': 2, 'uint': 13164495}},\n",
       "  {'key': 'asset_coefficient', 'value': {'bytes': '', 'type': 2, 'uint': 2}}]]"
      ]
     },
     "execution_count": 24,
     "metadata": {},
     "output_type": "execute_result"
    }
   ],
   "source": [
    "global_state = read_global_state(algod_client, funded_accounts[4]['pk'], app_id)\n",
    "decode_keys(global_state)"
   ]
  },
  {
   "cell_type": "markdown",
   "metadata": {},
   "source": [
    "## Add more options"
   ]
  },
  {
   "cell_type": "code",
   "execution_count": 25,
   "metadata": {},
   "outputs": [],
   "source": [
    "def add_options_tx(option_names, sender=4):\n",
    "    app_args = [\"add_options\".encode(\"utf-8\")] + [option_name.encode('utf-8') for option_name in option_names]\n",
    "\n",
    "    # create unsigned transaction\n",
    "    call_tx = transaction.ApplicationNoOpTxn(funded_accounts[sender]['pk'], params, app_id, app_args)\n",
    "    call_txid = algod_client.send_transaction(call_tx.sign(funded_accounts[sender]['sk']))\n",
    "    return call_txid\n",
    "\n",
    "call_txid = add_options_tx([\"new_one\", \"new_two\", \"new_three\", \"new_four\", \"NULL_OPTION\"])"
   ]
  },
  {
   "cell_type": "code",
   "execution_count": 27,
   "metadata": {},
   "outputs": [
    {
     "data": {
      "text/plain": [
       "[[{'key': 'asset_coefficient', 'value': {'bytes': '', 'type': 2, 'uint': 2}},\n",
       "  {'key': 'option_first', 'value': {'bytes': '', 'type': 2, 'uint': 0}},\n",
       "  {'key': 'option_new_one', 'value': {'bytes': '', 'type': 2, 'uint': 0}},\n",
       "  {'key': 'option_new_two', 'value': {'bytes': '', 'type': 2, 'uint': 0}},\n",
       "  {'key': 'option_second', 'value': {'bytes': '', 'type': 2, 'uint': 0}},\n",
       "  {'key': 'option_third', 'value': {'bytes': '', 'type': 2, 'uint': 0}},\n",
       "  {'key': 'Name',\n",
       "   'value': {'bytes': 'bXVjaGRlY2lzaW9u', 'type': 1, 'uint': 0}},\n",
       "  {'key': 'asset_id', 'value': {'bytes': '', 'type': 2, 'uint': 13164495}},\n",
       "  {'key': 'option_new_three', 'value': {'bytes': '', 'type': 2, 'uint': 0}},\n",
       "  {'key': 'option_new_four', 'value': {'bytes': '', 'type': 2, 'uint': 0}},\n",
       "  {'key': 'Creator',\n",
       "   'value': {'bytes': 'hmXzebxJfQ9OITtFlPuRxlG9X6Sb/YeOo4wVxBw0Bh0=',\n",
       "    'type': 1,\n",
       "    'uint': 0}}]]"
      ]
     },
     "execution_count": 27,
     "metadata": {},
     "output_type": "execute_result"
    }
   ],
   "source": [
    "global_state = decode_keys(read_global_state(algod_client, funded_accounts[4]['pk'], app_id))\n",
    "global_state"
   ]
  },
  {
   "cell_type": "markdown",
   "metadata": {},
   "source": [
    "## Opt-in"
   ]
  },
  {
   "cell_type": "code",
   "execution_count": null,
   "metadata": {},
   "outputs": [],
   "source": [
    "optin_tx = transaction.ApplicationOptInTxn(funded_accounts[2]['pk'], params, app_id)\n",
    "algod_client.send_transaction(optin_tx.sign(funded_accounts[2]['sk']))"
   ]
  },
  {
   "cell_type": "code",
   "execution_count": 34,
   "metadata": {},
   "outputs": [
    {
     "data": {
      "text/plain": [
       "'XQYWPXUGBSIPMEPQAFS6E3VVZ4V5LYNAH4JYLH53IHUMZUTJJPKA'"
      ]
     },
     "execution_count": 34,
     "metadata": {},
     "output_type": "execute_result"
    }
   ],
   "source": [
    "optin_tx = transaction.ApplicationOptInTxn(funded_accounts[3]['pk'], params, app_id)\n",
    "algod_client.send_transaction(optin_tx.sign(funded_accounts[3]['sk']))\n",
    "\n",
    "optin_tx = transaction.ApplicationOptInTxn(funded_accounts[4]['pk'], params, app_id)\n",
    "algod_client.send_transaction(optin_tx.sign(funded_accounts[4]['sk']))"
   ]
  },
  {
   "cell_type": "code",
   "execution_count": 35,
   "metadata": {},
   "outputs": [
    {
     "data": {
      "text/plain": [
       "[{'id': 14637979,\n",
       "  'key-value': [{'key': 'UVZvdGVEZWNpc2lvbkNyZWRpdHM=',\n",
       "    'value': {'bytes': '', 'type': 2, 'uint': 0}}],\n",
       "  'schema': {'num-byte-slice': 1, 'num-uint': 1}},\n",
       " {'id': 14707630,\n",
       "  'key-value': [{'key': 'UVZvdGVEZWNpc2lvbkNyZWRpdHM=',\n",
       "    'value': {'bytes': '', 'type': 2, 'uint': 146}}],\n",
       "  'schema': {'num-byte-slice': 1, 'num-uint': 1}}]"
      ]
     },
     "execution_count": 35,
     "metadata": {},
     "output_type": "execute_result"
    }
   ],
   "source": [
    "local_storage = algod_client.account_info(funded_accounts[2]['pk'])['apps-local-state']\n",
    "local_storage"
   ]
  },
  {
   "cell_type": "code",
   "execution_count": 37,
   "metadata": {},
   "outputs": [
    {
     "data": {
      "text/plain": [
       "[{'id': 14707630,\n",
       "  'key-value': [{'key': 'UVZvdGVEZWNpc2lvbkNyZWRpdHM=',\n",
       "    'value': {'bytes': '', 'type': 2, 'uint': 128}}],\n",
       "  'schema': {'num-byte-slice': 1, 'num-uint': 1}}]"
      ]
     },
     "execution_count": 37,
     "metadata": {},
     "output_type": "execute_result"
    }
   ],
   "source": [
    "local_storage = algod_client.account_info(funded_accounts[3]['pk'])['apps-local-state']\n",
    "local_storage"
   ]
  },
  {
   "cell_type": "code",
   "execution_count": 38,
   "metadata": {},
   "outputs": [
    {
     "data": {
      "text/plain": [
       "[{'id': 14707630,\n",
       "  'key-value': [{'key': 'UVZvdGVEZWNpc2lvbkNyZWRpdHM=',\n",
       "    'value': {'bytes': '', 'type': 2, 'uint': 186}}],\n",
       "  'schema': {'num-byte-slice': 1, 'num-uint': 1}}]"
      ]
     },
     "execution_count": 38,
     "metadata": {},
     "output_type": "execute_result"
    }
   ],
   "source": [
    "local_storage = algod_client.account_info(funded_accounts[4]['pk'])['apps-local-state']\n",
    "local_storage"
   ]
  },
  {
   "cell_type": "code",
   "execution_count": 41,
   "metadata": {},
   "outputs": [],
   "source": [
    "# if we look at the asset balances of these accounts we can check that the voting credits are asset_coefficient * asset_balance \n",
    "# account 1 has already opted in too many apps, that's why it isn't here"
   ]
  },
  {
   "cell_type": "code",
   "execution_count": 40,
   "metadata": {},
   "outputs": [
    {
     "name": "stdout",
     "output_type": "stream",
     "text": [
      "[]\n",
      "[{'amount': 42, 'asset-id': 13164495, 'creator': 'WRXFDQL5GF5XVMMANEY25AQLNM4YJHYTOKRIURSD55BZAOH3G6XYHHFCWM', 'is-frozen': False}]\n",
      "[{'amount': 73, 'asset-id': 13164495, 'creator': 'WRXFDQL5GF5XVMMANEY25AQLNM4YJHYTOKRIURSD55BZAOH3G6XYHHFCWM', 'is-frozen': False}]\n",
      "[{'amount': 64, 'asset-id': 13164495, 'creator': 'WRXFDQL5GF5XVMMANEY25AQLNM4YJHYTOKRIURSD55BZAOH3G6XYHHFCWM', 'is-frozen': False}]\n",
      "[{'amount': 93, 'asset-id': 13164495, 'creator': 'WRXFDQL5GF5XVMMANEY25AQLNM4YJHYTOKRIURSD55BZAOH3G6XYHHFCWM', 'is-frozen': False}]\n"
     ]
    }
   ],
   "source": [
    "for acc in funded_accounts:\n",
    "    print(algod_client.account_info(acc['pk'])['assets'])"
   ]
  },
  {
   "cell_type": "code",
   "execution_count": 42,
   "metadata": {
    "collapsed": true
   },
   "outputs": [
    {
     "ename": "AlgodHTTPError",
     "evalue": "{\"message\":\"TransactionPool.Remember: transaction N3XCGIKJPRNOCUXH3GS5Q5LNTNKWYRZA5UILGLH6XOCO4UIBQNIQ: transaction rejected by ApprovalProgram\"}\n",
     "output_type": "error",
     "traceback": [
      "\u001b[0;31m---------------------------------------------------------------------------\u001b[0m",
      "\u001b[0;31mHTTPError\u001b[0m                                 Traceback (most recent call last)",
      "\u001b[0;32m~/anaconda3/lib/python3.7/site-packages/algosdk/v2client/algod.py\u001b[0m in \u001b[0;36malgod_request\u001b[0;34m(self, method, requrl, params, data, headers, response_format)\u001b[0m\n\u001b[1;32m     71\u001b[0m         \u001b[0;32mtry\u001b[0m\u001b[0;34m:\u001b[0m\u001b[0;34m\u001b[0m\u001b[0;34m\u001b[0m\u001b[0m\n\u001b[0;32m---> 72\u001b[0;31m             \u001b[0mresp\u001b[0m \u001b[0;34m=\u001b[0m \u001b[0murlopen\u001b[0m\u001b[0;34m(\u001b[0m\u001b[0mreq\u001b[0m\u001b[0;34m)\u001b[0m\u001b[0;34m\u001b[0m\u001b[0;34m\u001b[0m\u001b[0m\n\u001b[0m\u001b[1;32m     73\u001b[0m         \u001b[0;32mexcept\u001b[0m \u001b[0murllib\u001b[0m\u001b[0;34m.\u001b[0m\u001b[0merror\u001b[0m\u001b[0;34m.\u001b[0m\u001b[0mHTTPError\u001b[0m \u001b[0;32mas\u001b[0m \u001b[0me\u001b[0m\u001b[0;34m:\u001b[0m\u001b[0;34m\u001b[0m\u001b[0;34m\u001b[0m\u001b[0m\n",
      "\u001b[0;32m~/anaconda3/lib/python3.7/urllib/request.py\u001b[0m in \u001b[0;36murlopen\u001b[0;34m(url, data, timeout, cafile, capath, cadefault, context)\u001b[0m\n\u001b[1;32m    221\u001b[0m         \u001b[0mopener\u001b[0m \u001b[0;34m=\u001b[0m \u001b[0m_opener\u001b[0m\u001b[0;34m\u001b[0m\u001b[0;34m\u001b[0m\u001b[0m\n\u001b[0;32m--> 222\u001b[0;31m     \u001b[0;32mreturn\u001b[0m \u001b[0mopener\u001b[0m\u001b[0;34m.\u001b[0m\u001b[0mopen\u001b[0m\u001b[0;34m(\u001b[0m\u001b[0murl\u001b[0m\u001b[0;34m,\u001b[0m \u001b[0mdata\u001b[0m\u001b[0;34m,\u001b[0m \u001b[0mtimeout\u001b[0m\u001b[0;34m)\u001b[0m\u001b[0;34m\u001b[0m\u001b[0;34m\u001b[0m\u001b[0m\n\u001b[0m\u001b[1;32m    223\u001b[0m \u001b[0;34m\u001b[0m\u001b[0m\n",
      "\u001b[0;32m~/anaconda3/lib/python3.7/urllib/request.py\u001b[0m in \u001b[0;36mopen\u001b[0;34m(self, fullurl, data, timeout)\u001b[0m\n\u001b[1;32m    530\u001b[0m             \u001b[0mmeth\u001b[0m \u001b[0;34m=\u001b[0m \u001b[0mgetattr\u001b[0m\u001b[0;34m(\u001b[0m\u001b[0mprocessor\u001b[0m\u001b[0;34m,\u001b[0m \u001b[0mmeth_name\u001b[0m\u001b[0;34m)\u001b[0m\u001b[0;34m\u001b[0m\u001b[0;34m\u001b[0m\u001b[0m\n\u001b[0;32m--> 531\u001b[0;31m             \u001b[0mresponse\u001b[0m \u001b[0;34m=\u001b[0m \u001b[0mmeth\u001b[0m\u001b[0;34m(\u001b[0m\u001b[0mreq\u001b[0m\u001b[0;34m,\u001b[0m \u001b[0mresponse\u001b[0m\u001b[0;34m)\u001b[0m\u001b[0;34m\u001b[0m\u001b[0;34m\u001b[0m\u001b[0m\n\u001b[0m\u001b[1;32m    532\u001b[0m \u001b[0;34m\u001b[0m\u001b[0m\n",
      "\u001b[0;32m~/anaconda3/lib/python3.7/urllib/request.py\u001b[0m in \u001b[0;36mhttp_response\u001b[0;34m(self, request, response)\u001b[0m\n\u001b[1;32m    640\u001b[0m             response = self.parent.error(\n\u001b[0;32m--> 641\u001b[0;31m                 'http', request, response, code, msg, hdrs)\n\u001b[0m\u001b[1;32m    642\u001b[0m \u001b[0;34m\u001b[0m\u001b[0m\n",
      "\u001b[0;32m~/anaconda3/lib/python3.7/urllib/request.py\u001b[0m in \u001b[0;36merror\u001b[0;34m(self, proto, *args)\u001b[0m\n\u001b[1;32m    568\u001b[0m             \u001b[0margs\u001b[0m \u001b[0;34m=\u001b[0m \u001b[0;34m(\u001b[0m\u001b[0mdict\u001b[0m\u001b[0;34m,\u001b[0m \u001b[0;34m'default'\u001b[0m\u001b[0;34m,\u001b[0m \u001b[0;34m'http_error_default'\u001b[0m\u001b[0;34m)\u001b[0m \u001b[0;34m+\u001b[0m \u001b[0morig_args\u001b[0m\u001b[0;34m\u001b[0m\u001b[0;34m\u001b[0m\u001b[0m\n\u001b[0;32m--> 569\u001b[0;31m             \u001b[0;32mreturn\u001b[0m \u001b[0mself\u001b[0m\u001b[0;34m.\u001b[0m\u001b[0m_call_chain\u001b[0m\u001b[0;34m(\u001b[0m\u001b[0;34m*\u001b[0m\u001b[0margs\u001b[0m\u001b[0;34m)\u001b[0m\u001b[0;34m\u001b[0m\u001b[0;34m\u001b[0m\u001b[0m\n\u001b[0m\u001b[1;32m    570\u001b[0m \u001b[0;34m\u001b[0m\u001b[0m\n",
      "\u001b[0;32m~/anaconda3/lib/python3.7/urllib/request.py\u001b[0m in \u001b[0;36m_call_chain\u001b[0;34m(self, chain, kind, meth_name, *args)\u001b[0m\n\u001b[1;32m    502\u001b[0m             \u001b[0mfunc\u001b[0m \u001b[0;34m=\u001b[0m \u001b[0mgetattr\u001b[0m\u001b[0;34m(\u001b[0m\u001b[0mhandler\u001b[0m\u001b[0;34m,\u001b[0m \u001b[0mmeth_name\u001b[0m\u001b[0;34m)\u001b[0m\u001b[0;34m\u001b[0m\u001b[0;34m\u001b[0m\u001b[0m\n\u001b[0;32m--> 503\u001b[0;31m             \u001b[0mresult\u001b[0m \u001b[0;34m=\u001b[0m \u001b[0mfunc\u001b[0m\u001b[0;34m(\u001b[0m\u001b[0;34m*\u001b[0m\u001b[0margs\u001b[0m\u001b[0;34m)\u001b[0m\u001b[0;34m\u001b[0m\u001b[0;34m\u001b[0m\u001b[0m\n\u001b[0m\u001b[1;32m    504\u001b[0m             \u001b[0;32mif\u001b[0m \u001b[0mresult\u001b[0m \u001b[0;32mis\u001b[0m \u001b[0;32mnot\u001b[0m \u001b[0;32mNone\u001b[0m\u001b[0;34m:\u001b[0m\u001b[0;34m\u001b[0m\u001b[0;34m\u001b[0m\u001b[0m\n",
      "\u001b[0;32m~/anaconda3/lib/python3.7/urllib/request.py\u001b[0m in \u001b[0;36mhttp_error_default\u001b[0;34m(self, req, fp, code, msg, hdrs)\u001b[0m\n\u001b[1;32m    648\u001b[0m     \u001b[0;32mdef\u001b[0m \u001b[0mhttp_error_default\u001b[0m\u001b[0;34m(\u001b[0m\u001b[0mself\u001b[0m\u001b[0;34m,\u001b[0m \u001b[0mreq\u001b[0m\u001b[0;34m,\u001b[0m \u001b[0mfp\u001b[0m\u001b[0;34m,\u001b[0m \u001b[0mcode\u001b[0m\u001b[0;34m,\u001b[0m \u001b[0mmsg\u001b[0m\u001b[0;34m,\u001b[0m \u001b[0mhdrs\u001b[0m\u001b[0;34m)\u001b[0m\u001b[0;34m:\u001b[0m\u001b[0;34m\u001b[0m\u001b[0;34m\u001b[0m\u001b[0m\n\u001b[0;32m--> 649\u001b[0;31m         \u001b[0;32mraise\u001b[0m \u001b[0mHTTPError\u001b[0m\u001b[0;34m(\u001b[0m\u001b[0mreq\u001b[0m\u001b[0;34m.\u001b[0m\u001b[0mfull_url\u001b[0m\u001b[0;34m,\u001b[0m \u001b[0mcode\u001b[0m\u001b[0;34m,\u001b[0m \u001b[0mmsg\u001b[0m\u001b[0;34m,\u001b[0m \u001b[0mhdrs\u001b[0m\u001b[0;34m,\u001b[0m \u001b[0mfp\u001b[0m\u001b[0;34m)\u001b[0m\u001b[0;34m\u001b[0m\u001b[0;34m\u001b[0m\u001b[0m\n\u001b[0m\u001b[1;32m    650\u001b[0m \u001b[0;34m\u001b[0m\u001b[0m\n",
      "\u001b[0;31mHTTPError\u001b[0m: HTTP Error 400: Bad Request",
      "\nDuring handling of the above exception, another exception occurred:\n",
      "\u001b[0;31mAlgodHTTPError\u001b[0m                            Traceback (most recent call last)",
      "\u001b[0;32m~/anaconda3/lib/python3.7/site-packages/algosdk/v2client/algod.py\u001b[0m in \u001b[0;36malgod_request\u001b[0;34m(self, method, requrl, params, data, headers, response_format)\u001b[0m\n\u001b[1;32m     76\u001b[0m             \u001b[0;32mtry\u001b[0m\u001b[0;34m:\u001b[0m\u001b[0;34m\u001b[0m\u001b[0;34m\u001b[0m\u001b[0m\n\u001b[0;32m---> 77\u001b[0;31m                 \u001b[0;32mraise\u001b[0m \u001b[0merror\u001b[0m\u001b[0;34m.\u001b[0m\u001b[0mAlgodHTTPError\u001b[0m\u001b[0;34m(\u001b[0m\u001b[0mjson\u001b[0m\u001b[0;34m.\u001b[0m\u001b[0mloads\u001b[0m\u001b[0;34m(\u001b[0m\u001b[0me\u001b[0m\u001b[0;34m)\u001b[0m\u001b[0;34m[\u001b[0m\u001b[0;34m\"message\"\u001b[0m\u001b[0;34m]\u001b[0m\u001b[0;34m,\u001b[0m \u001b[0mcode\u001b[0m\u001b[0;34m)\u001b[0m\u001b[0;34m\u001b[0m\u001b[0;34m\u001b[0m\u001b[0m\n\u001b[0m\u001b[1;32m     78\u001b[0m             \u001b[0;32mexcept\u001b[0m\u001b[0;34m:\u001b[0m\u001b[0;34m\u001b[0m\u001b[0;34m\u001b[0m\u001b[0m\n",
      "\u001b[0;31mAlgodHTTPError\u001b[0m: TransactionPool.Remember: transaction N3XCGIKJPRNOCUXH3GS5Q5LNTNKWYRZA5UILGLH6XOCO4UIBQNIQ: transaction rejected by ApprovalProgram",
      "\nDuring handling of the above exception, another exception occurred:\n",
      "\u001b[0;31mAlgodHTTPError\u001b[0m                            Traceback (most recent call last)",
      "\u001b[0;32m<ipython-input-42-a375fc38c4a3>\u001b[0m in \u001b[0;36m<module>\u001b[0;34m\u001b[0m\n\u001b[1;32m      1\u001b[0m \u001b[0;31m# let's try opting in an account with no assets\u001b[0m\u001b[0;34m\u001b[0m\u001b[0;34m\u001b[0m\u001b[0;34m\u001b[0m\u001b[0m\n\u001b[1;32m      2\u001b[0m \u001b[0moptin_tx\u001b[0m \u001b[0;34m=\u001b[0m \u001b[0mtransaction\u001b[0m\u001b[0;34m.\u001b[0m\u001b[0mApplicationOptInTxn\u001b[0m\u001b[0;34m(\u001b[0m\u001b[0mfunded_accounts\u001b[0m\u001b[0;34m[\u001b[0m\u001b[0;36m0\u001b[0m\u001b[0;34m]\u001b[0m\u001b[0;34m[\u001b[0m\u001b[0;34m'pk'\u001b[0m\u001b[0;34m]\u001b[0m\u001b[0;34m,\u001b[0m \u001b[0mparams\u001b[0m\u001b[0;34m,\u001b[0m \u001b[0mapp_id\u001b[0m\u001b[0;34m)\u001b[0m\u001b[0;34m\u001b[0m\u001b[0;34m\u001b[0m\u001b[0m\n\u001b[0;32m----> 3\u001b[0;31m \u001b[0malgod_client\u001b[0m\u001b[0;34m.\u001b[0m\u001b[0msend_transaction\u001b[0m\u001b[0;34m(\u001b[0m\u001b[0moptin_tx\u001b[0m\u001b[0;34m.\u001b[0m\u001b[0msign\u001b[0m\u001b[0;34m(\u001b[0m\u001b[0mfunded_accounts\u001b[0m\u001b[0;34m[\u001b[0m\u001b[0;36m0\u001b[0m\u001b[0;34m]\u001b[0m\u001b[0;34m[\u001b[0m\u001b[0;34m'sk'\u001b[0m\u001b[0;34m]\u001b[0m\u001b[0;34m)\u001b[0m\u001b[0;34m)\u001b[0m\u001b[0;34m\u001b[0m\u001b[0;34m\u001b[0m\u001b[0m\n\u001b[0m",
      "\u001b[0;32m~/anaconda3/lib/python3.7/site-packages/algosdk/v2client/algod.py\u001b[0m in \u001b[0;36msend_transaction\u001b[0;34m(self, txn, **kwargs)\u001b[0m\n\u001b[1;32m    164\u001b[0m \u001b[0;34m\u001b[0m\u001b[0m\n\u001b[1;32m    165\u001b[0m         \u001b[0mArgs\u001b[0m\u001b[0;34m:\u001b[0m\u001b[0;34m\u001b[0m\u001b[0;34m\u001b[0m\u001b[0m\n\u001b[0;32m--> 166\u001b[0;31m             \u001b[0mtxn\u001b[0m \u001b[0;34m(\u001b[0m\u001b[0mSignedTransaction\u001b[0m \u001b[0;32mor\u001b[0m \u001b[0mMultisigTransaction\u001b[0m\u001b[0;34m)\u001b[0m\u001b[0;34m:\u001b[0m \u001b[0mtransaction\u001b[0m \u001b[0mto\u001b[0m \u001b[0msend\u001b[0m\u001b[0;34m\u001b[0m\u001b[0;34m\u001b[0m\u001b[0m\n\u001b[0m\u001b[1;32m    167\u001b[0m             \u001b[0mrequest_header\u001b[0m \u001b[0;34m(\u001b[0m\u001b[0mdict\u001b[0m\u001b[0;34m,\u001b[0m \u001b[0moptional\u001b[0m\u001b[0;34m)\u001b[0m\u001b[0;34m:\u001b[0m \u001b[0madditional\u001b[0m \u001b[0mheader\u001b[0m \u001b[0;32mfor\u001b[0m \u001b[0mrequest\u001b[0m\u001b[0;34m\u001b[0m\u001b[0;34m\u001b[0m\u001b[0m\n\u001b[1;32m    168\u001b[0m \u001b[0;34m\u001b[0m\u001b[0m\n",
      "\u001b[0;32m~/anaconda3/lib/python3.7/site-packages/algosdk/v2client/algod.py\u001b[0m in \u001b[0;36msend_raw_transaction\u001b[0;34m(self, txn, **kwargs)\u001b[0m\n\u001b[1;32m    180\u001b[0m             \u001b[0mtxn\u001b[0m \u001b[0;34m(\u001b[0m\u001b[0mstr\u001b[0m\u001b[0;34m)\u001b[0m\u001b[0;34m:\u001b[0m \u001b[0mtransaction\u001b[0m \u001b[0mto\u001b[0m \u001b[0msend\u001b[0m\u001b[0;34m,\u001b[0m \u001b[0mencoded\u001b[0m \u001b[0;32min\u001b[0m \u001b[0mbase64\u001b[0m\u001b[0;34m\u001b[0m\u001b[0;34m\u001b[0m\u001b[0m\n\u001b[1;32m    181\u001b[0m             \u001b[0mrequest_header\u001b[0m \u001b[0;34m(\u001b[0m\u001b[0mdict\u001b[0m\u001b[0;34m,\u001b[0m \u001b[0moptional\u001b[0m\u001b[0;34m)\u001b[0m\u001b[0;34m:\u001b[0m \u001b[0madditional\u001b[0m \u001b[0mheader\u001b[0m \u001b[0;32mfor\u001b[0m \u001b[0mrequest\u001b[0m\u001b[0;34m\u001b[0m\u001b[0;34m\u001b[0m\u001b[0m\n\u001b[0;32m--> 182\u001b[0;31m \u001b[0;34m\u001b[0m\u001b[0m\n\u001b[0m\u001b[1;32m    183\u001b[0m         \u001b[0mReturns\u001b[0m\u001b[0;34m:\u001b[0m\u001b[0;34m\u001b[0m\u001b[0;34m\u001b[0m\u001b[0m\n\u001b[1;32m    184\u001b[0m             \u001b[0mstr\u001b[0m\u001b[0;34m:\u001b[0m \u001b[0mtransaction\u001b[0m \u001b[0mID\u001b[0m\u001b[0;34m\u001b[0m\u001b[0;34m\u001b[0m\u001b[0m\n",
      "\u001b[0;32m~/anaconda3/lib/python3.7/site-packages/algosdk/v2client/algod.py\u001b[0m in \u001b[0;36malgod_request\u001b[0;34m(self, method, requrl, params, data, headers, response_format)\u001b[0m\n\u001b[1;32m     77\u001b[0m                 \u001b[0;32mraise\u001b[0m \u001b[0merror\u001b[0m\u001b[0;34m.\u001b[0m\u001b[0mAlgodHTTPError\u001b[0m\u001b[0;34m(\u001b[0m\u001b[0mjson\u001b[0m\u001b[0;34m.\u001b[0m\u001b[0mloads\u001b[0m\u001b[0;34m(\u001b[0m\u001b[0me\u001b[0m\u001b[0;34m)\u001b[0m\u001b[0;34m[\u001b[0m\u001b[0;34m\"message\"\u001b[0m\u001b[0;34m]\u001b[0m\u001b[0;34m,\u001b[0m \u001b[0mcode\u001b[0m\u001b[0;34m)\u001b[0m\u001b[0;34m\u001b[0m\u001b[0;34m\u001b[0m\u001b[0m\n\u001b[1;32m     78\u001b[0m             \u001b[0;32mexcept\u001b[0m\u001b[0;34m:\u001b[0m\u001b[0;34m\u001b[0m\u001b[0;34m\u001b[0m\u001b[0m\n\u001b[0;32m---> 79\u001b[0;31m                 \u001b[0;32mraise\u001b[0m \u001b[0merror\u001b[0m\u001b[0;34m.\u001b[0m\u001b[0mAlgodHTTPError\u001b[0m\u001b[0;34m(\u001b[0m\u001b[0me\u001b[0m\u001b[0;34m,\u001b[0m \u001b[0mcode\u001b[0m\u001b[0;34m)\u001b[0m\u001b[0;34m\u001b[0m\u001b[0;34m\u001b[0m\u001b[0m\n\u001b[0m\u001b[1;32m     80\u001b[0m         \u001b[0;32mif\u001b[0m \u001b[0mresponse_format\u001b[0m \u001b[0;34m==\u001b[0m \u001b[0;34m\"json\"\u001b[0m\u001b[0;34m:\u001b[0m\u001b[0;34m\u001b[0m\u001b[0;34m\u001b[0m\u001b[0m\n\u001b[1;32m     81\u001b[0m             \u001b[0;32mtry\u001b[0m\u001b[0;34m:\u001b[0m\u001b[0;34m\u001b[0m\u001b[0;34m\u001b[0m\u001b[0m\n",
      "\u001b[0;31mAlgodHTTPError\u001b[0m: {\"message\":\"TransactionPool.Remember: transaction N3XCGIKJPRNOCUXH3GS5Q5LNTNKWYRZA5UILGLH6XOCO4UIBQNIQ: transaction rejected by ApprovalProgram\"}\n"
     ]
    }
   ],
   "source": [
    "# let's try opting in an account with no assets \n",
    "optin_tx = transaction.ApplicationOptInTxn(funded_accounts[0]['pk'], params, app_id)\n",
    "algod_client.send_transaction(optin_tx.sign(funded_accounts[0]['sk']))\n",
    "# this tx is rejected by the approval program "
   ]
  },
  {
   "cell_type": "markdown",
   "metadata": {},
   "source": [
    "## Voting"
   ]
  },
  {
   "cell_type": "code",
   "execution_count": 43,
   "metadata": {},
   "outputs": [],
   "source": [
    "option_name = \"first\"\n",
    "votes = 5\n",
    "sign = '+'\n",
    "\n",
    "app_args = [\"vote\".encode(\"utf-8\"), option_name.encode(\"utf-8\"), votes.to_bytes(2, \"big\"), sign.encode(\"utf-8\")]\n",
    "\n",
    "# create unsigned transaction\n",
    "call_tx = transaction.ApplicationNoOpTxn(funded_accounts[2]['pk'], params, app_id, app_args)\n",
    "call_txid = algod_client.send_transaction(call_tx.sign(funded_accounts[2]['sk']))"
   ]
  },
  {
   "cell_type": "code",
   "execution_count": 44,
   "metadata": {},
   "outputs": [
    {
     "data": {
      "text/plain": [
       "[{'id': 14637979,\n",
       "  'key-value': [{'key': 'UVZvdGVEZWNpc2lvbkNyZWRpdHM=',\n",
       "    'value': {'bytes': '', 'type': 2, 'uint': 0}}],\n",
       "  'schema': {'num-byte-slice': 1, 'num-uint': 1}},\n",
       " {'id': 14707630,\n",
       "  'key-value': [{'key': 'UVZvdGVEZWNpc2lvbkNyZWRpdHM=',\n",
       "    'value': {'bytes': '', 'type': 2, 'uint': 121}}],\n",
       "  'schema': {'num-byte-slice': 1, 'num-uint': 1}}]"
      ]
     },
     "execution_count": 44,
     "metadata": {},
     "output_type": "execute_result"
    }
   ],
   "source": [
    "# balance has gone down by the square of the amount \n",
    "local_storage = algod_client.account_info(funded_accounts[2]['pk'])['apps-local-state']\n",
    "local_storage"
   ]
  },
  {
   "cell_type": "code",
   "execution_count": 46,
   "metadata": {},
   "outputs": [
    {
     "data": {
      "text/plain": [
       "[[{'key': 'option_third', 'value': {'bytes': '', 'type': 2, 'uint': 0}},\n",
       "  {'key': 'option_new_three', 'value': {'bytes': '', 'type': 2, 'uint': 0}},\n",
       "  {'key': 'option_new_four', 'value': {'bytes': '', 'type': 2, 'uint': 0}},\n",
       "  {'key': 'Name',\n",
       "   'value': {'bytes': 'bXVjaGRlY2lzaW9u', 'type': 1, 'uint': 0}},\n",
       "  {'key': 'asset_coefficient', 'value': {'bytes': '', 'type': 2, 'uint': 2}},\n",
       "  {'key': 'option_new_one', 'value': {'bytes': '', 'type': 2, 'uint': 0}},\n",
       "  {'key': 'option_new_two', 'value': {'bytes': '', 'type': 2, 'uint': 0}},\n",
       "  {'key': 'option_second', 'value': {'bytes': '', 'type': 2, 'uint': 0}},\n",
       "  {'key': 'Creator',\n",
       "   'value': {'bytes': 'hmXzebxJfQ9OITtFlPuRxlG9X6Sb/YeOo4wVxBw0Bh0=',\n",
       "    'type': 1,\n",
       "    'uint': 0}},\n",
       "  {'key': 'asset_id', 'value': {'bytes': '', 'type': 2, 'uint': 13164495}},\n",
       "  {'key': 'option_first', 'value': {'bytes': '', 'type': 2, 'uint': 5}}]]"
      ]
     },
     "execution_count": 46,
     "metadata": {},
     "output_type": "execute_result"
    }
   ],
   "source": [
    "# vote tally has gone up by the right amount \n",
    "global_state = decode_keys(read_global_state(algod_client, funded_accounts[4]['pk'], app_id))\n",
    "global_state"
   ]
  },
  {
   "cell_type": "code",
   "execution_count": 45,
   "metadata": {},
   "outputs": [],
   "source": [
    "# TODO test negative votes\n",
    "# TODO 2 decimal places "
   ]
  },
  {
   "cell_type": "code",
   "execution_count": null,
   "metadata": {},
   "outputs": [],
   "source": []
  }
 ],
 "metadata": {
  "kernelspec": {
   "display_name": "Python 3",
   "language": "python",
   "name": "python3"
  },
  "language_info": {
   "codemirror_mode": {
    "name": "ipython",
    "version": 3
   },
   "file_extension": ".py",
   "mimetype": "text/x-python",
   "name": "python",
   "nbconvert_exporter": "python",
   "pygments_lexer": "ipython3",
   "version": "3.7.4"
  }
 },
 "nbformat": 4,
 "nbformat_minor": 2
}
