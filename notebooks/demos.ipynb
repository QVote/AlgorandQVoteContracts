{
 "cells": [
  {
   "cell_type": "code",
   "execution_count": 1,
   "metadata": {},
   "outputs": [
    {
     "data": {
      "text/html": [
       "<style>.container { margin-left: 2.5% !important; width:95%; }</style>"
      ],
      "text/plain": [
       "<IPython.core.display.HTML object>"
      ]
     },
     "metadata": {},
     "output_type": "display_data"
    }
   ],
   "source": [
    "# used to widen the cells \n",
    "from IPython.core.display import display, HTML\n",
    "display(HTML(\"<style>.container { margin-left: 2.5% !important; width:95%; }</style>\"))\n"
   ]
  },
  {
   "cell_type": "code",
   "execution_count": 2,
   "metadata": {},
   "outputs": [],
   "source": [
    "from algosdk.v2client import algod\n",
    "from algosdk import mnemonic\n",
    "from algosdk import transaction\n",
    "\n",
    "algod_address = \"https://testnet-algorand.api.purestake.io/ps2\"\n",
    "algod_token = \"fFG6R4JTFq9Hh8RjZy130aMRdUhmOYp68hi9nm4L\"\n",
    "headers = {\n",
    "   \"X-API-Key\": algod_token,\n",
    "}\n",
    "\n",
    "algod_client = algod.AlgodClient(algod_token, algod_address, headers);\n"
   ]
  },
  {
   "cell_type": "code",
   "execution_count": 4,
   "metadata": {},
   "outputs": [],
   "source": [
    "funded_mnemonics= [\"rookie similar wire owner wash once fish mosquito glad coffee family venture adult funny melt gas inspire tuna buzz sell dignity pottery gold able bracket\",\n",
    "                  \"narrow mimic suffer top suspect follow menu broccoli try snake meat erase napkin lucky client forget sense bread glad eight uniform bacon code about crack\", \n",
    "                  \"city truth device clog grocery sea safe slide glove borrow swap capable trash shaft vast start space distance calm wire hub crush dose ability army\", \n",
    "                  \"unknown arctic antenna country credit december ill practice lawsuit today athlete rescue exit swarm fitness strong minimum soldier wide coffee vacuum piece coil absorb unable\", \n",
    "                  \"gravity adult destroy demand margin coast culture base adjust east banana certain happy daughter bless fiscal fiscal eye forget inspire brain banner evil able bonus\"]\n",
    "\n",
    "funded_accounts = [{'sk': mnemonic.to_private_key(memo), 'pk': mnemonic.to_public_key(memo)} for memo in funded_mnemonics]"
   ]
  },
  {
   "cell_type": "code",
   "execution_count": 7,
   "metadata": {},
   "outputs": [],
   "source": [
    "def compile(approval_filename='approval.teal', clear_state_filename='clear_state.teal'):\n",
    "\n",
    "    # pyteal to teal \n",
    "    with open(approval_filename, 'w') as f:\n",
    "        compiled = compileTeal(approval_program(), Mode.Application)\n",
    "        f.write(compiled)\n",
    "\n",
    "    with open(clear_state_filename, 'w') as f:\n",
    "        compiled = compileTeal(clear_state_program(), Mode.Application)\n",
    "        f.write(compiled)\n",
    "\n",
    "    # teal to bytecode \n",
    "    stdout, stderr = execute([\"goal\", \"clerk\", \"compile\", \"-o\", approval_filename+'.tok', approval_filename])\n",
    "    if stderr != \"\":\n",
    "        print(stderr)\n",
    "        raise\n",
    "    elif len(stdout) < 59:\n",
    "        print(\"error in compile teal\")\n",
    "        raise\n",
    "\n",
    "    stdout, stderr = execute([\"goal\", \"clerk\", \"compile\", \"-o\", clear_state_filename+'.tok', clear_state_filename])\n",
    "    if stderr != \"\":\n",
    "        print(stderr)\n",
    "        raise\n",
    "    elif len(stdout) < 59:\n",
    "        print(\"error in compile teal\")\n",
    "        raise\n",
    "\n",
    "    with open(approval_filename+'.tok', 'rb') as f:\n",
    "        approval_bytes = f.read()\n",
    "\n",
    "    with open(clear_state_filename+'.tok', 'rb') as f: \n",
    "        clear_state_bytes = f.read() \n",
    "        \n",
    "    return approval_bytes, clear_state_bytes"
   ]
  },
  {
   "cell_type": "markdown",
   "metadata": {},
   "source": [
    "## options in contract storage"
   ]
  },
  {
   "cell_type": "code",
   "execution_count": 6,
   "metadata": {},
   "outputs": [],
   "source": [
    "from pyteal import *    \n",
    "    \n",
    "def approval_program():     \n",
    "    on_creation = Seq([    \n",
    "        App.globalPut(Bytes(\"Creator\"), Txn.sender()),    \n",
    "        App.globalPut(Bytes(\"Name\"), Txn.application_args[0]),\n",
    "        Return(Int(1))\n",
    "    ])    \n",
    "    \n",
    "    on_closeout = Return(Int(1))\n",
    "    on_optin = Return(Int(1))\n",
    "    \n",
    "    myStatus = App.globalGetEx(Int(0), Bytes(\"status\"))\n",
    "    Seq([\n",
    "        myStatus,\n",
    "        If(myStatus.hasValue(), myStatus.value(), Bytes(\"none\"))\n",
    "    ])\n",
    "    \n",
    "    \n",
    "    option_name = Concat(Bytes(\"option_\"), Txn.application_args[1])\n",
    "    \n",
    "    option_tally = App.globalGetEx(Int(0), option_name)\n",
    "    on_vote = Seq([\n",
    "        option_tally, \n",
    "        If(option_tally.hasValue(),\n",
    "           Seq([App.globalPut(option_name, option_tally.value()+Int(1)), Return(Int(1))]),\n",
    "           Return(Int(0))\n",
    "          )\n",
    "    ])\n",
    "    \n",
    "    on_add_option = Seq([\n",
    "        App.globalPut(option_name, 0),\n",
    "        Return(Int(1))\n",
    "    ])\n",
    "        \n",
    "    program = Cond(    \n",
    "            [Txn.application_id() == Int(0), on_creation],    \n",
    "            [Txn.on_completion() == OnComplete.DeleteApplication, Return(Int(0))], \n",
    "            [Txn.on_completion() == OnComplete.UpdateApplication, Return(Int(0))],    \n",
    "            [Txn.on_completion() == OnComplete.OptIn, on_optin],\n",
    "            [Txn.application_args[0] == Bytes(\"vote\"), on_vote],\n",
    "            [Txn.application_args[0] == Bytes(\"add_opiton\"), on_add_option]\n",
    "    )    \n",
    "    return program    \n",
    "    \n",
    "    \n",
    "def clear_state_program():     \n",
    "    program = Return(Int(1))\n",
    "    return program    \n",
    "    \n"
   ]
  },
  {
   "cell_type": "code",
   "execution_count": 8,
   "metadata": {},
   "outputs": [],
   "source": [
    "from algosdk.future import transaction\n",
    "from algosdk.future.transaction import StateSchema, OnComplete"
   ]
  },
  {
   "cell_type": "code",
   "execution_count": null,
   "metadata": {},
   "outputs": [],
   "source": []
  }
 ],
 "metadata": {
  "kernelspec": {
   "display_name": "Python 3",
   "language": "python",
   "name": "python3"
  },
  "language_info": {
   "codemirror_mode": {
    "name": "ipython",
    "version": 3
   },
   "file_extension": ".py",
   "mimetype": "text/x-python",
   "name": "python",
   "nbconvert_exporter": "python",
   "pygments_lexer": "ipython3",
   "version": "3.7.4"
  }
 },
 "nbformat": 4,
 "nbformat_minor": 2
}
