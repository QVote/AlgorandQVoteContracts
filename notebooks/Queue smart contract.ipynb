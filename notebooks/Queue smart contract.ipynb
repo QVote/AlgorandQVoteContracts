{
 "cells": [
  {
   "cell_type": "code",
   "execution_count": 1,
   "metadata": {},
   "outputs": [
    {
     "data": {
      "text/html": [
       "<style>.container { margin-left: 2.5% !important; width:95%; }</style>"
      ],
      "text/plain": [
       "<IPython.core.display.HTML object>"
      ]
     },
     "metadata": {},
     "output_type": "display_data"
    }
   ],
   "source": [
    "# used to widen the cells \n",
    "from IPython.core.display import display, HTML\n",
    "display(HTML(\"<style>.container { margin-left: 2.5% !important; width:95%; }</style>\"))\n"
   ]
  },
  {
   "cell_type": "code",
   "execution_count": 5,
   "metadata": {},
   "outputs": [],
   "source": [
    "from algosdk.v2client import algod\n",
    "from algosdk import mnemonic\n",
    "from algosdk import transaction\n",
    "\n",
    "algod_address = \"https://testnet-algorand.api.purestake.io/ps2\"\n",
    "algod_token = \"fFG6R4JTFq9Hh8RjZy130aMRdUhmOYp68hi9nm4L\"\n",
    "headers = {\n",
    "   \"X-API-Key\": algod_token,\n",
    "}\n",
    "\n",
    "algod_client = algod.AlgodClient(algod_token, algod_address, headers);"
   ]
  },
  {
   "cell_type": "code",
   "execution_count": 7,
   "metadata": {},
   "outputs": [],
   "source": [
    "from algosdk import account "
   ]
  },
  {
   "cell_type": "code",
   "execution_count": 8,
   "metadata": {},
   "outputs": [
    {
     "name": "stdout",
     "output_type": "stream",
     "text": [
      "Private key: AezFSrIDpntBtOZ5BkjBlFZOpn4EWV+9iyd2A7WLBNxp4lya6D2VXf6etYWCUEQf7WUZqB5D0LUYbOKjR5Y87Q==\n",
      "Address: NHRFZGXIHWKV37U6WWCYEUCED7WWKGNIDZB5BNIYNTRKGR4WHTWW7XLMZI\n",
      "memo: lens bless century depth equal galaxy pear trade song cactus gaze harsh original praise catalog flip program confirm because danger head carry then absorb sock\n"
     ]
    }
   ],
   "source": [
    "# generate an account\n",
    "private_key, address = account.generate_account()\n",
    "print(\"Private key:\", private_key)\n",
    "print(\"Address:\", address)\n",
    "print(\"memo:\", mnemonic.from_private_key(private_key))"
   ]
  },
  {
   "cell_type": "code",
   "execution_count": 9,
   "metadata": {},
   "outputs": [
    {
     "name": "stdout",
     "output_type": "stream",
     "text": [
      "NHRFZGXIHWKV37U6WWCYEUCED7WWKGNIDZB5BNIYNTRKGR4WHTWW7XLMZI\n"
     ]
    }
   ],
   "source": [
    "memo = \"lens bless century depth equal galaxy pear trade song cactus gaze harsh original praise catalog flip program confirm because danger head carry then absorb sock\"\n",
    "private_key = mnemonic.to_private_key(memo)\n",
    "address = mnemonic.to_public_key(memo)\n",
    "print(address)"
   ]
  },
  {
   "cell_type": "code",
   "execution_count": 2,
   "metadata": {},
   "outputs": [],
   "source": [
    "def compile(approval_filename='approval.teal', clear_state_filename='clear_state.teal'):\n",
    "\n",
    "    # pyteal to teal \n",
    "    with open(approval_filename, 'w') as f:\n",
    "        compiled = compileTeal(approval_program(), Mode.Application)\n",
    "        f.write(compiled)\n",
    "\n",
    "    with open(clear_state_filename, 'w') as f:\n",
    "        compiled = compileTeal(clear_state_program(), Mode.Application)\n",
    "        f.write(compiled)\n",
    "\n",
    "    # teal to bytecode \n",
    "    stdout, stderr = execute([\"goal\", \"clerk\", \"compile\", \"-o\", approval_filename+'.tok', approval_filename])\n",
    "    if stderr != \"\":\n",
    "        print(stderr)\n",
    "        raise\n",
    "    elif len(stdout) < 59:\n",
    "        print(\"error in compile teal\")\n",
    "        raise\n",
    "\n",
    "    stdout, stderr = execute([\"goal\", \"clerk\", \"compile\", \"-o\", clear_state_filename+'.tok', clear_state_filename])\n",
    "    if stderr != \"\":\n",
    "        print(stderr)\n",
    "        raise\n",
    "    elif len(stdout) < 59:\n",
    "        print(\"error in compile teal\")\n",
    "        raise\n",
    "\n",
    "    with open(approval_filename+'.tok', 'rb') as f:\n",
    "        approval_bytes = f.read()\n",
    "\n",
    "    with open(clear_state_filename+'.tok', 'rb') as f: \n",
    "        clear_state_bytes = f.read() \n",
    "        \n",
    "    return approval_bytes, clear_state_bytes"
   ]
  },
  {
   "cell_type": "code",
   "execution_count": 16,
   "metadata": {},
   "outputs": [],
   "source": [
    "# read app global state\n",
    "def read_global_state(client, addr, app_id):   \n",
    "    results = client.account_info(addr)\n",
    "    apps_created = results['created-apps']\n",
    "    global_states = []\n",
    "    for app in apps_created :\n",
    "        if app['id'] == app_id :\n",
    "            global_states.append(app['params']['global-state'])\n",
    "            # print(f\"global_state for app_id {app_id}: \", app['params']['global-state'])\n",
    "    return global_states "
   ]
  },
  {
   "cell_type": "code",
   "execution_count": 44,
   "metadata": {},
   "outputs": [],
   "source": [
    "import base64 \n",
    "def decode_keys(s):\n",
    "    for entry in s[0]:\n",
    "        entry['key'] = base64.b64decode(entry['key']).decode('utf-8')\n",
    "    return s"
   ]
  },
  {
   "cell_type": "code",
   "execution_count": 81,
   "metadata": {},
   "outputs": [],
   "source": [
    "from pyteal import *    \n",
    "    \n",
    "def approval_program():     \n",
    "    separator = Bytes(\"::\")\n",
    "    \n",
    "    on_creation = Seq([    \n",
    "        App.globalPut(Bytes(\"STORE\"), Bytes(\"\")),  \n",
    "        Return(Int(1))\n",
    "    ])    \n",
    "    \n",
    "    on_optin = Return(Int(1))\n",
    "    \n",
    "    store = App.globalGet(Bytes(\"STORE\"))\n",
    "    time_stamp = Itob(Global.latest_timestamp())\n",
    "    on_push = Seq([\n",
    "        # App.globalPut(Bytes(\"timestamp\"), Global.latest_timestamp()),\n",
    "        # App.globalPut(Bytes(\"roudn\"), Global.round()),\n",
    "        \n",
    "        App.globalPut(Bytes('STORE'), Concat(store, separator, time_stamp)),    # store the timestamp, which is also the key to the app argument in the correct order \n",
    "        App.globalPut(time_stamp, Txn.application_args[1]),     # store the contract address, indexed by the timestamp \n",
    "        Return(Int(1))\n",
    "    ])\n",
    "      \n",
    "    program = Cond(    \n",
    "            [Txn.application_id() == Int(0), on_creation],    \n",
    "            [Txn.on_completion() == OnComplete.DeleteApplication, Return(Int(0))], \n",
    "            [Txn.on_completion() == OnComplete.UpdateApplication, Return(Int(0))],    \n",
    "            [Txn.on_completion() == OnComplete.OptIn, on_optin],\n",
    "            [Txn.application_args[0] == Bytes(\"push\"), on_push],\n",
    "    )    \n",
    "    return program    \n",
    "    \n",
    "    \n",
    "def clear_state_program():     \n",
    "    program = Return(Int(1))\n",
    "    return program    \n"
   ]
  },
  {
   "cell_type": "code",
   "execution_count": 82,
   "metadata": {},
   "outputs": [],
   "source": [
    "from algosdk.future import transaction\n",
    "from algosdk.future.transaction import StateSchema\n",
    "from algosdk.future.transaction import OnComplete as onComplete"
   ]
  },
  {
   "cell_type": "code",
   "execution_count": 83,
   "metadata": {},
   "outputs": [],
   "source": [
    "params = algod_client.suggested_params()\n",
    "params.falt_fee = True\n",
    "params.fee = 1000"
   ]
  },
  {
   "cell_type": "code",
   "execution_count": 91,
   "metadata": {},
   "outputs": [
    {
     "data": {
      "text/plain": [
       "'WPU3VIC6VSQSFAUXHSLB24AC6SYAK5ELG7PLXJJ3DN5SEUOK4XEQ'"
      ]
     },
     "execution_count": 91,
     "metadata": {},
     "output_type": "execute_result"
    }
   ],
   "source": [
    "approval_bytes, clear_state_bytes = compile()\n",
    "\n",
    "local_schema = StateSchema(num_uints=1, num_byte_slices=1)    \n",
    "global_schema = StateSchema(num_uints=5, num_byte_slices=5)   \n",
    "\n",
    "on_complete = onComplete(0)\n",
    "app_create_txn = transaction.ApplicationCreateTxn(\n",
    "    address, \n",
    "    params, \n",
    "    on_complete, \n",
    "    approval_bytes, \n",
    "    clear_state_bytes, \n",
    "    global_schema, \n",
    "    local_schema,\n",
    ")\n",
    "\n",
    "app_create_txn_signed = app_create_txn.sign(private_key)\n",
    "txid = algod_client.send_transaction(app_create_txn_signed)\n",
    "txid"
   ]
  },
  {
   "cell_type": "code",
   "execution_count": 97,
   "metadata": {},
   "outputs": [
    {
     "data": {
      "text/plain": [
       "14877600"
      ]
     },
     "execution_count": 97,
     "metadata": {},
     "output_type": "execute_result"
    }
   ],
   "source": [
    "app_id = algod_client.pending_transaction_info(txid)['application-index']\n",
    "app_id"
   ]
  },
  {
   "cell_type": "code",
   "execution_count": 102,
   "metadata": {},
   "outputs": [
    {
     "name": "stdout",
     "output_type": "stream",
     "text": [
      "[[{'key': 'STORE', 'value': {'bytes': 'MTIzNDU2Nzg5', 'type': 1, 'uint': 0}}, {'key': 'timestamp', 'value': {'bytes': '', 'type': 2, 'uint': 1616270061}}, {'key': 'roudn', 'value': {'bytes': '', 'type': 2, 'uint': 13035730}}]]\n",
      "12\n"
     ]
    }
   ],
   "source": [
    "global_state = read_global_state(algod_client, address, app_id)\n",
    "state = decode_keys(global_state)\n",
    "print(state)\n",
    "print(len(state[0][0]['value']['bytes']))"
   ]
  },
  {
   "cell_type": "code",
   "execution_count": 103,
   "metadata": {},
   "outputs": [
    {
     "data": {
      "text/plain": [
       "10"
      ]
     },
     "execution_count": 103,
     "metadata": {},
     "output_type": "execute_result"
    }
   ],
   "source": [
    "len('1616270061')"
   ]
  },
  {
   "cell_type": "code",
   "execution_count": 104,
   "metadata": {},
   "outputs": [
    {
     "data": {
      "text/plain": [
       "8"
      ]
     },
     "execution_count": 104,
     "metadata": {},
     "output_type": "execute_result"
    }
   ],
   "source": [
    "len('13035730')"
   ]
  },
  {
   "cell_type": "code",
   "execution_count": 105,
   "metadata": {},
   "outputs": [],
   "source": [
    "#### NOTE we could store the first few digits separately, since they change much more slowly\n",
    "# example: blocknumbers are 125442 125444 125450, we can store 1254 42 44 50 which is shorter. We know that if we encounter a number of 4 digits, it's a prefix\n",
    "# they will be in sorted order, so when we push we just check the next one, if the length is the length of the prefix, we push that too. \n",
    "# when adding we simply check to see if the prefix portion of the blocknumber is different "
   ]
  },
  {
   "cell_type": "code",
   "execution_count": 99,
   "metadata": {},
   "outputs": [
    {
     "data": {
      "text/plain": [
       "'BREW5PVGZOPFH2LCWRIIXHT5RJS3SPHS2NQOGF6IKZIJD6A67LEA'"
      ]
     },
     "execution_count": 99,
     "metadata": {},
     "output_type": "execute_result"
    }
   ],
   "source": [
    "optin_tx = transaction.ApplicationOptInTxn(address, params, app_id)\n",
    "algod_client.send_transaction(optin_tx.sign(private_key))"
   ]
  },
  {
   "cell_type": "code",
   "execution_count": 100,
   "metadata": {},
   "outputs": [],
   "source": [
    "s = \"123456789\"\n",
    "app_args = [\"push\".encode(\"utf-8\"), s.encode(\"utf-8\")]\n",
    "\n",
    "# create unsigned transaction\n",
    "call_tx = transaction.ApplicationNoOpTxn(address, params, app_id, app_args)\n",
    "call_txid = algod_client.send_transaction(call_tx.sign(private_key))"
   ]
  },
  {
   "cell_type": "code",
   "execution_count": 79,
   "metadata": {},
   "outputs": [],
   "source": [
    "params = algod_client.suggested_params()\n",
    "params.falt_fee = True\n",
    "params.fee = 1000"
   ]
  },
  {
   "cell_type": "code",
   "execution_count": null,
   "metadata": {},
   "outputs": [],
   "source": []
  }
 ],
 "metadata": {
  "kernelspec": {
   "display_name": "Python 3",
   "language": "python",
   "name": "python3"
  },
  "language_info": {
   "codemirror_mode": {
    "name": "ipython",
    "version": 3
   },
   "file_extension": ".py",
   "mimetype": "text/x-python",
   "name": "python",
   "nbconvert_exporter": "python",
   "pygments_lexer": "ipython3",
   "version": "3.7.4"
  }
 },
 "nbformat": 4,
 "nbformat_minor": 2
}
