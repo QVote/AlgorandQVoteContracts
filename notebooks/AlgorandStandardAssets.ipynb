{
 "cells": [
  {
   "cell_type": "code",
   "execution_count": 1,
   "metadata": {},
   "outputs": [
    {
     "data": {
      "text/html": [
       "<style>.container { margin-left: 2.5% !important; width:95%; }</style>"
      ],
      "text/plain": [
       "<IPython.core.display.HTML object>"
      ]
     },
     "metadata": {},
     "output_type": "display_data"
    }
   ],
   "source": [
    "# used to widen the cells \n",
    "from IPython.core.display import display, HTML\n",
    "display(HTML(\"<style>.container { margin-left: 2.5% !important; width:95%; }</style>\"))\n"
   ]
  },
  {
   "cell_type": "markdown",
   "metadata": {},
   "source": [
    "### Sandbox "
   ]
  },
  {
   "cell_type": "code",
   "execution_count": 1,
   "metadata": {},
   "outputs": [],
   "source": [
    "from algosdk.v2client import algod\n",
    "\n",
    "algod_address = \"http://localhost:4001\"\n",
    "algod_token = \"aaaaaaaaaaaaaaaaaaaaaaaaaaaaaaaaaaaaaaaaaaaaaaaaaaaaaaaaaaaaaaaa\"\n",
    "algod_client = algod.AlgodClient(algod_token, algod_address)\n"
   ]
  },
  {
   "cell_type": "markdown",
   "metadata": {},
   "source": [
    "### PureStake API "
   ]
  },
  {
   "cell_type": "code",
   "execution_count": 3,
   "metadata": {},
   "outputs": [],
   "source": [
    "from algosdk.v2client import algod\n",
    "from algosdk import mnemonic\n",
    "from algosdk import transaction\n",
    "\n",
    "algod_address = \"https://testnet-algorand.api.purestake.io/ps2\"\n",
    "algod_token = \"fFG6R4JTFq9Hh8RjZy130aMRdUhmOYp68hi9nm4L\"\n",
    "headers = {\n",
    "   \"X-API-Key\": algod_token,\n",
    "}\n",
    "\n",
    "algod_client = algod.AlgodClient(algod_token, algod_address, headers);\n"
   ]
  },
  {
   "cell_type": "code",
   "execution_count": 4,
   "metadata": {},
   "outputs": [],
   "source": [
    "def generate_algorand_keypair():\n",
    "    private_key, address = account.generate_account()\n",
    "    print(\"My address: {}\".format(address))\n",
    "    print(\"My passphrase: {}\".format(mnemonic.from_private_key(private_key)))\n",
    "    return {'sk': private_key, 'pk': address}"
   ]
  },
  {
   "cell_type": "code",
   "execution_count": 5,
   "metadata": {},
   "outputs": [
    {
     "name": "stdout",
     "output_type": "stream",
     "text": [
      "Account balance: 96162232 microAlgos\n"
     ]
    }
   ],
   "source": [
    "from algosdk import mnemonic, account\n",
    "\n",
    "passphrase = \"angry live wrist arrest nerve stadium round candy scrap area road defy grow panic turkey attack moon shadow they worth shoe forum rural ability average\"\n",
    "\n",
    "creator_account = {'sk': mnemonic.to_private_key(passphrase), 'pk': mnemonic.to_public_key(passphrase)}\n",
    "\n",
    "account_info = algod_client.account_info(creator_account['pk'])\n",
    "print(\"Account balance: {} microAlgos\".format(account_info.get('amount')))\n"
   ]
  },
  {
   "cell_type": "markdown",
   "metadata": {},
   "source": [
    "### Some funded accounts "
   ]
  },
  {
   "cell_type": "code",
   "execution_count": 6,
   "metadata": {},
   "outputs": [],
   "source": [
    "funded_mnemonics= [\"rookie similar wire owner wash once fish mosquito glad coffee family venture adult funny melt gas inspire tuna buzz sell dignity pottery gold able bracket\",\n",
    "                  \"narrow mimic suffer top suspect follow menu broccoli try snake meat erase napkin lucky client forget sense bread glad eight uniform bacon code about crack\", \n",
    "                  \"city truth device clog grocery sea safe slide glove borrow swap capable trash shaft vast start space distance calm wire hub crush dose ability army\", \n",
    "                  \"unknown arctic antenna country credit december ill practice lawsuit today athlete rescue exit swarm fitness strong minimum soldier wide coffee vacuum piece coil absorb unable\", \n",
    "                  \"gravity adult destroy demand margin coast culture base adjust east banana certain happy daughter bless fiscal fiscal eye forget inspire brain banner evil able bonus\"]"
   ]
  },
  {
   "cell_type": "code",
   "execution_count": 7,
   "metadata": {},
   "outputs": [],
   "source": [
    "funded_accounts = [{'sk': mnemonic.to_private_key(memo), 'pk': mnemonic.to_public_key(memo)} for memo in funded_mnemonics]"
   ]
  },
  {
   "cell_type": "code",
   "execution_count": 8,
   "metadata": {},
   "outputs": [
    {
     "name": "stdout",
     "output_type": "stream",
     "text": [
      "400396800\n",
      "96036216\n",
      "93447216\n",
      "92735200\n",
      "98581200\n"
     ]
    }
   ],
   "source": [
    "for ac in funded_accounts:\n",
    "    print(algod_client.account_info(ac['pk']).get('amount'))"
   ]
  },
  {
   "cell_type": "code",
   "execution_count": 8,
   "metadata": {},
   "outputs": [],
   "source": [
    "from algosdk.future import transaction\n",
    "from algosdk.future.transaction import StateSchema, OnComplete"
   ]
  },
  {
   "cell_type": "markdown",
   "metadata": {},
   "source": [
    "## Creating asset"
   ]
  },
  {
   "cell_type": "code",
   "execution_count": 16,
   "metadata": {},
   "outputs": [
    {
     "data": {
      "text/plain": [
       "10546524"
      ]
     },
     "execution_count": 16,
     "metadata": {},
     "output_type": "execute_result"
    }
   ],
   "source": [
    "# Get network params for transactions before every transaction.\n",
    "params = algod_client.suggested_params()\n",
    "# comment these two lines if you want to use suggested params\n",
    "params.fee = 1000\n",
    "params.flat_fee = True\n",
    "\n",
    "params.last"
   ]
  },
  {
   "cell_type": "code",
   "execution_count": 18,
   "metadata": {},
   "outputs": [
    {
     "name": "stdout",
     "output_type": "stream",
     "text": [
      "A5NLL236DH64ELIGYWTEYBEZOBYJ57BOMW2HI4DPPKJBABADNWSQ\n"
     ]
    }
   ],
   "source": [
    "# creator_account creates a new asset \n",
    "# other_account as the manager, reserve, freeze, and clawback address.\n",
    "# Asset Creation transaction\n",
    "\n",
    "txn = transaction.AssetConfigTxn(\n",
    "    fee=params.fee,\n",
    "    first=params.first, \n",
    "    last=params.last,\n",
    "    gh=params.gh,\n",
    "    flat_fee=params.flat_fee,\n",
    "    sender=creator_account['pk'],\n",
    "    total=1000, \n",
    "    default_frozen=False, \n",
    "    unit_name=\"QOIN\", \n",
    "    asset_name=\"QVoteCoin\", \n",
    "    manager=funded_accounts[0]['pk'],\n",
    "    reserve=funded_accounts[0]['pk'],\n",
    "    freeze=funded_accounts[0]['pk'],\n",
    "    clawback=funded_accounts[0]['pk'],\n",
    "    url='', \n",
    "    decimals=0,\n",
    ")\n",
    "\n",
    "\n",
    "# Sign with secret key of creator\n",
    "stxn = txn.sign(creator_account['sk'])\n",
    "\n",
    "# Send the transaction to the network and retrieve the txid.\n",
    "txid = algod_client.send_transaction(stxn)\n",
    "print(txid)"
   ]
  },
  {
   "cell_type": "code",
   "execution_count": 21,
   "metadata": {},
   "outputs": [
    {
     "data": {
      "text/plain": [
       "{'asset-index': 13164495,\n",
       " 'confirmed-round': 10545534,\n",
       " 'pool-error': '',\n",
       " 'txn': {'sig': '+YNfVyo1b5jaeaaZvrKXYt+QeZ4Brkr0hNDvHlm4NhX1ynHW9jSv8eEpO8DJfZ5HC8zwP+VguzHDx48snHo/Bw==',\n",
       "  'txn': {'apar': {'an': 'QVoteCoin',\n",
       "    'c': '2HJNF65MZIMT4YGTTDLGJK3LHS5B3IJUITWF3JJ3WC6GE72DLMJCYGZBUM',\n",
       "    'f': '2HJNF65MZIMT4YGTTDLGJK3LHS5B3IJUITWF3JJ3WC6GE72DLMJCYGZBUM',\n",
       "    'm': '2HJNF65MZIMT4YGTTDLGJK3LHS5B3IJUITWF3JJ3WC6GE72DLMJCYGZBUM',\n",
       "    'r': '2HJNF65MZIMT4YGTTDLGJK3LHS5B3IJUITWF3JJ3WC6GE72DLMJCYGZBUM',\n",
       "    't': 1000,\n",
       "    'un': 'QOIN'},\n",
       "   'fee': 1000,\n",
       "   'fv': 10545524,\n",
       "   'gh': 'SGO1GKSzyE7IEPItTxCByw9x8FmnrCDexi9/cOUJOiI=',\n",
       "   'lv': 10546524,\n",
       "   'snd': 'WRXFDQL5GF5XVMMANEY25AQLNM4YJHYTOKRIURSD55BZAOH3G6XYHHFCWM',\n",
       "   'type': 'acfg'}}}"
      ]
     },
     "execution_count": 21,
     "metadata": {},
     "output_type": "execute_result"
    }
   ],
   "source": [
    "tx_response = algod_client.pending_transaction_info(txid)\n",
    "asset_id = tx_response['asset-index']\n",
    "tx_response"
   ]
  },
  {
   "cell_type": "code",
   "execution_count": 9,
   "metadata": {},
   "outputs": [],
   "source": [
    "asset_id = 13164495"
   ]
  },
  {
   "cell_type": "markdown",
   "metadata": {},
   "source": [
    "## Transferring the asset "
   ]
  },
  {
   "cell_type": "code",
   "execution_count": 10,
   "metadata": {},
   "outputs": [],
   "source": [
    "# Get network params for transactions before every transaction.\n",
    "params = algod_client.suggested_params()\n",
    "# comment these two lines if you want to use suggested params\n",
    "params.fee = 1000\n",
    "params.flat_fee = True\n"
   ]
  },
  {
   "cell_type": "markdown",
   "metadata": {},
   "source": [
    "### opt in to receive the asset "
   ]
  },
  {
   "cell_type": "code",
   "execution_count": 21,
   "metadata": {},
   "outputs": [
    {
     "ename": "IndexError",
     "evalue": "list index out of range",
     "output_type": "error",
     "traceback": [
      "\u001b[0;31m---------------------------------------------------------------------------\u001b[0m",
      "\u001b[0;31mIndexError\u001b[0m                                Traceback (most recent call last)",
      "\u001b[0;32m<ipython-input-21-8d2c9493b594>\u001b[0m in \u001b[0;36m<module>\u001b[0;34m\u001b[0m\n\u001b[1;32m      1\u001b[0m \u001b[0;31m# Use the AssetTransferTxn class to transfer assets and opt-in\u001b[0m\u001b[0;34m\u001b[0m\u001b[0;34m\u001b[0m\u001b[0;34m\u001b[0m\u001b[0m\n\u001b[0;32m----> 2\u001b[0;31m \u001b[0mreceiver_account\u001b[0m \u001b[0;34m=\u001b[0m \u001b[0mfunded_accounts\u001b[0m\u001b[0;34m[\u001b[0m\u001b[0;36m5\u001b[0m\u001b[0;34m]\u001b[0m\u001b[0;34m\u001b[0m\u001b[0;34m\u001b[0m\u001b[0m\n\u001b[0m\u001b[1;32m      3\u001b[0m \u001b[0;34m\u001b[0m\u001b[0m\n\u001b[1;32m      4\u001b[0m \"\"\"txn = transaction.AssetTransferTxn(\n\u001b[1;32m      5\u001b[0m     \u001b[0mreceiver_account\u001b[0m\u001b[0;34m[\u001b[0m\u001b[0;34m'pk'\u001b[0m\u001b[0;34m]\u001b[0m\u001b[0;34m,\u001b[0m\u001b[0;34m\u001b[0m\u001b[0;34m\u001b[0m\u001b[0m\n",
      "\u001b[0;31mIndexError\u001b[0m: list index out of range"
     ]
    }
   ],
   "source": [
    "# Use the AssetTransferTxn class to transfer assets and opt-in\n",
    "receiver_account = funded_accounts[4]\n",
    "\n",
    "\"\"\"txn = transaction.AssetTransferTxn(\n",
    "    receiver_account['pk'],\n",
    "    # params,\n",
    "    first=params.first, \n",
    "    last=params.last,\n",
    "    gh=params.gh,\n",
    "    fee=params.fee,\n",
    "    # flat_fee=params.flat_fee,\n",
    "    receiver=receiver_account[\"pk\"],\n",
    "    amt=0,\n",
    "    index=asset_id)\"\"\"\n",
    "\n",
    "txn = transaction.AssetTransferTxn(\n",
    "        sender=receiver_account['pk'],\n",
    "        sp=params,\n",
    "        receiver=receiver_account[\"pk\"],\n",
    "        amt=0,\n",
    "        index=asset_id)\n",
    "\n",
    "stxn = txn.sign(receiver_account['sk'])\n",
    "txid = algod_client.send_transaction(stxn)\n",
    "print(txid)"
   ]
  },
  {
   "cell_type": "code",
   "execution_count": 20,
   "metadata": {},
   "outputs": [
    {
     "name": "stdout",
     "output_type": "stream",
     "text": [
      "3UQQV7QP6LAS4UFBQMVH77VX5KVRAMHXNVC6MPTCB7KUHGFTR2VA\n"
     ]
    }
   ],
   "source": [
    "# Get network params for transactions before every transaction.\n",
    "params = algod_client.suggested_params()\n",
    "# comment these two lines if you want to use suggested params\n",
    "params.fee = 1000\n",
    "params.flat_fee = True\n",
    "\n",
    "\"\"\"txn = transaction.AssetTransferTxn(\n",
    "    sender=creator_account['pk'],     # this is the asset manager \n",
    "    # first=params.first, \n",
    "    # last=params.last,\n",
    "    # gh=params.gh,\n",
    "    # fee=params.fee,\n",
    "    # flat_fee=params.flat_fee,\n",
    "    params=params,\n",
    "    receiver=receiver_account[\"pk\"],\n",
    "    amt=42,\n",
    "    index=asset_id)\"\"\"\n",
    "\n",
    "txn = transaction.AssetTransferTxn(\n",
    "        sender=creator_account['pk'],\n",
    "        sp=params,\n",
    "        receiver=receiver_account[\"pk\"],\n",
    "        amt=93,\n",
    "        index=asset_id)\n",
    "\n",
    "stxn = txn.sign(creator_account['sk'])\n",
    "txid = algod_client.send_transaction(stxn)\n",
    "print(txid)"
   ]
  },
  {
   "cell_type": "markdown",
   "metadata": {},
   "source": [
    "## Reading token balance "
   ]
  },
  {
   "cell_type": "code",
   "execution_count": 14,
   "metadata": {},
   "outputs": [
    {
     "data": {
      "text/plain": [
       "{'amount': 885,\n",
       " 'asset-id': 13164495,\n",
       " 'creator': 'WRXFDQL5GF5XVMMANEY25AQLNM4YJHYTOKRIURSD55BZAOH3G6XYHHFCWM',\n",
       " 'is-frozen': False}"
      ]
     },
     "execution_count": 14,
     "metadata": {},
     "output_type": "execute_result"
    }
   ],
   "source": [
    "algod_client.account_info(creator_account['pk'])['assets'][-1]"
   ]
  },
  {
   "cell_type": "code",
   "execution_count": 15,
   "metadata": {},
   "outputs": [
    {
     "data": {
      "text/plain": [
       "[{'amount': 42,\n",
       "  'asset-id': 13164495,\n",
       "  'creator': 'WRXFDQL5GF5XVMMANEY25AQLNM4YJHYTOKRIURSD55BZAOH3G6XYHHFCWM',\n",
       "  'is-frozen': False}]"
      ]
     },
     "execution_count": 15,
     "metadata": {},
     "output_type": "execute_result"
    }
   ],
   "source": [
    "algod_client.account_info(funded_accounts[1]['pk'])['assets']"
   ]
  },
  {
   "cell_type": "code",
   "execution_count": 16,
   "metadata": {},
   "outputs": [
    {
     "data": {
      "text/plain": [
       "[{'amount': 73,\n",
       "  'asset-id': 13164495,\n",
       "  'creator': 'WRXFDQL5GF5XVMMANEY25AQLNM4YJHYTOKRIURSD55BZAOH3G6XYHHFCWM',\n",
       "  'is-frozen': False}]"
      ]
     },
     "execution_count": 16,
     "metadata": {},
     "output_type": "execute_result"
    }
   ],
   "source": [
    "algod_client.account_info(funded_accounts[2]['pk'])['assets']"
   ]
  },
  {
   "cell_type": "code",
   "execution_count": 25,
   "metadata": {},
   "outputs": [
    {
     "name": "stdout",
     "output_type": "stream",
     "text": [
      "[]\n",
      "[{'amount': 42, 'asset-id': 13164495, 'creator': 'WRXFDQL5GF5XVMMANEY25AQLNM4YJHYTOKRIURSD55BZAOH3G6XYHHFCWM', 'is-frozen': False}]\n",
      "[{'amount': 73, 'asset-id': 13164495, 'creator': 'WRXFDQL5GF5XVMMANEY25AQLNM4YJHYTOKRIURSD55BZAOH3G6XYHHFCWM', 'is-frozen': False}]\n",
      "[{'amount': 64, 'asset-id': 13164495, 'creator': 'WRXFDQL5GF5XVMMANEY25AQLNM4YJHYTOKRIURSD55BZAOH3G6XYHHFCWM', 'is-frozen': False}]\n",
      "[{'amount': 93, 'asset-id': 13164495, 'creator': 'WRXFDQL5GF5XVMMANEY25AQLNM4YJHYTOKRIURSD55BZAOH3G6XYHHFCWM', 'is-frozen': False}]\n"
     ]
    }
   ],
   "source": [
    "for acc in funded_accounts:\n",
    "    print(algod_client.account_info(acc['pk'])['assets'])"
   ]
  },
  {
   "cell_type": "markdown",
   "metadata": {},
   "source": [
    "## Reading token balance in smart contract "
   ]
  },
  {
   "cell_type": "code",
   "execution_count": 162,
   "metadata": {},
   "outputs": [],
   "source": [
    "from pyteal import *    \n",
    "    \n",
    "def approval_program():     \n",
    "    on_creation = Seq([    \n",
    "        App.globalPut(Bytes(\"Creator\"), Txn.sender()),    \n",
    "        App.globalPut(Bytes(\"Name\"), Txn.application_args[0]),\n",
    "        App.globalPut(Bytes(\"asset_id\"), Btoi(Txn.application_args[1])),  # should be Int \n",
    "        Return(Int(1))\n",
    "    ])    \n",
    "    \n",
    "    on_closeout = Return(Int(1))\n",
    "    \n",
    "    asset_id = App.globalGet(Bytes(\"asset_id\"))\n",
    "    # parameter indicates index in accounts array (0 is sender)     \n",
    "    asset_balance = AssetHolding.balance(Int(0), asset_id)    \n",
    "        \n",
    "    on_optin = Seq([ \n",
    "        asset_balance, \n",
    "        If(asset_balance.hasValue(),  # is sender has balance, store it, otherwise return 0     \n",
    "           Seq([App.localPut(Int(0), Bytes(\"QVoteDecisionCredits\"), asset_balance.value()), Return(Int(1))]),      \n",
    "           Return(Int(0))\n",
    "        ) \n",
    "    ])    \n",
    "        \n",
    "    # IF VOTING     \n",
    "    # check balance of sender,     \n",
    "    # add votes     \n",
    "    # remove square of votes from asset balance for that address     \n",
    "        \n",
    "    program = Cond(    \n",
    "            [Txn.application_id() == Int(0), on_creation],    \n",
    "            [Txn.on_completion() == OnComplete.DeleteApplication, Return(Int(0))],   ## TODO does this mean no-one can delete this?         \n",
    "            [Txn.on_completion() == OnComplete.UpdateApplication, Return(Int(0))],    \n",
    "            [Txn.on_completion() == OnComplete.OptIn, on_optin]    \n",
    "            # TODO add voting     \n",
    "    )    \n",
    "    return program    \n",
    "    \n",
    "    \n",
    "# TODO add timeframes for opt in and voting     \n",
    "# TODO does it matter where the balance of tokens is stored? global vs local     \n",
    "    \n",
    "def clear_state_program():     \n",
    "    program = Return(Int(1))\n",
    "    return program    \n",
    "    \n"
   ]
  },
  {
   "cell_type": "code",
   "execution_count": 163,
   "metadata": {},
   "outputs": [],
   "source": [
    "approval_filename = 'approval.teal'\n",
    "clear_state_filename = 'clear_state.teal'\n",
    "\n",
    "with open(approval_filename, 'w') as f:\n",
    "    compiled = compileTeal(approval_program(), Mode.Application)\n",
    "    f.write(compiled)\n",
    "\n",
    "with open(clear_state_filename, 'w') as f:\n",
    "    compiled = compileTeal(clear_state_program(), Mode.Application)\n",
    "    f.write(compiled)"
   ]
  },
  {
   "cell_type": "code",
   "execution_count": 164,
   "metadata": {},
   "outputs": [],
   "source": [
    "stdout, stderr = execute([\"goal\", \"clerk\", \"compile\", \"-o\", approval_filename+'.tok', approval_filename])\n",
    "if stderr != \"\":\n",
    "    print(stderr)\n",
    "    raise\n",
    "elif len(stdout) < 59:\n",
    "    print(\"error in compile teal\")\n",
    "    raise\n",
    "    \n",
    "stdout, stderr = execute([\"goal\", \"clerk\", \"compile\", \"-o\", clear_state_filename+'.tok', clear_state_filename])\n",
    "if stderr != \"\":\n",
    "    print(stderr)\n",
    "    raise\n",
    "elif len(stdout) < 59:\n",
    "    print(\"error in compile teal\")\n",
    "    raise"
   ]
  },
  {
   "cell_type": "code",
   "execution_count": 165,
   "metadata": {},
   "outputs": [],
   "source": [
    "with open(approval_filename+'.tok', 'rb') as f:\n",
    "    approval_bytes = f.read()\n",
    "    \n",
    "with open(clear_state_filename+'.tok', 'rb') as f: \n",
    "    clear_state_bytes = f.read() "
   ]
  },
  {
   "cell_type": "code",
   "execution_count": 166,
   "metadata": {},
   "outputs": [],
   "source": [
    "from algosdk.future import transaction\n",
    "from algosdk.future.transaction import StateSchema, OnComplete"
   ]
  },
  {
   "cell_type": "code",
   "execution_count": 167,
   "metadata": {},
   "outputs": [],
   "source": [
    "params = algod_client.suggested_params()\n",
    "params.falt_fee = True\n",
    "params.fee = 1000\n",
    "\n",
    "decision_name = 'to_be_or_not_to_be'\n",
    "\n",
    "local_schema = StateSchema(num_uints=1, num_byte_slices=1)    \n",
    "global_schema = StateSchema(num_uints=3, num_byte_slices=3)\n",
    "\n",
    "on_complete = OnComplete(0)\n",
    "app_create_txn = transaction.ApplicationCreateTxn(\n",
    "    funded_accounts[2]['pk'], \n",
    "    params, \n",
    "    on_complete, \n",
    "    approval_bytes, \n",
    "    clear_state_bytes, \n",
    "    global_schema, \n",
    "    local_schema,\n",
    "    app_args = [decision_name.encode('utf-8'), asset_id.to_bytes(3, 'big')]\n",
    ")"
   ]
  },
  {
   "cell_type": "code",
   "execution_count": 168,
   "metadata": {},
   "outputs": [
    {
     "data": {
      "text/plain": [
       "'KRZJNNVDUI7RNWRNO6YXJLK7VLFB44KY6QXSSD4G6ZXS7SQTLKKQ'"
      ]
     },
     "execution_count": 168,
     "metadata": {},
     "output_type": "execute_result"
    }
   ],
   "source": [
    "app_create_txn_signed = app_create_txn.sign(funded_accounts[2]['sk'])\n",
    "txid = algod_client.send_transaction(app_create_txn_signed)\n",
    "txid"
   ]
  },
  {
   "cell_type": "code",
   "execution_count": 170,
   "metadata": {},
   "outputs": [
    {
     "data": {
      "text/plain": [
       "13166035"
      ]
     },
     "execution_count": 170,
     "metadata": {},
     "output_type": "execute_result"
    }
   ],
   "source": [
    "app_id = algod_client.pending_transaction_info(txid)['application-index']\n",
    "app_id"
   ]
  },
  {
   "cell_type": "markdown",
   "metadata": {},
   "source": [
    "## Opting in "
   ]
  },
  {
   "cell_type": "code",
   "execution_count": 171,
   "metadata": {},
   "outputs": [],
   "source": [
    "params = algod_client.suggested_params()\n",
    "params.falt_fee = True\n",
    "params.fee = 1000\n",
    "\n",
    "# funded_accounts[1] has some tokens \n",
    "optin_tx = transaction.ApplicationOptInTxn(funded_accounts[1]['pk'], params, app_id)\n",
    "optin_txid = algod_client.send_transaction(optin_tx.sign(funded_accounts[1]['sk']))"
   ]
  },
  {
   "cell_type": "code",
   "execution_count": 173,
   "metadata": {},
   "outputs": [
    {
     "data": {
      "text/plain": [
       "{'confirmed-round': 10550054,\n",
       " 'local-state-delta': [{'address': 'WSBV354QUX5TBQ7KNBRVCRMAFXJOJLKFIX46DIO2CP5BB7VQPHTCOKNGHQ',\n",
       "   'delta': [{'key': 'UVZvdGVEZWNpc2lvbkNyZWRpdHM=',\n",
       "     'value': {'action': 2, 'uint': 42}}]}],\n",
       " 'pool-error': '',\n",
       " 'txn': {'sig': 'vikaoHYwPoE4upmfq1bJ/+VB1vPRKTPp2dA6ofWBQEa5CFdb/xebsIOB7zJHrY5F245sZp3MUCEZqX1loOl4Bw==',\n",
       "  'txn': {'apan': 1,\n",
       "   'apid': 13166035,\n",
       "   'fee': 217000,\n",
       "   'fv': 10550052,\n",
       "   'gen': 'testnet-v1.0',\n",
       "   'gh': 'SGO1GKSzyE7IEPItTxCByw9x8FmnrCDexi9/cOUJOiI=',\n",
       "   'lv': 10551052,\n",
       "   'snd': 'WSBV354QUX5TBQ7KNBRVCRMAFXJOJLKFIX46DIO2CP5BB7VQPHTCOKNGHQ',\n",
       "   'type': 'appl'}}}"
      ]
     },
     "execution_count": 173,
     "metadata": {},
     "output_type": "execute_result"
    }
   ],
   "source": [
    "optin_tx_response = algod_client.pending_transaction_info(optin_txid)\n",
    "optin_tx_response"
   ]
  },
  {
   "cell_type": "markdown",
   "metadata": {},
   "source": [
    "## Checking local storage "
   ]
  },
  {
   "cell_type": "code",
   "execution_count": 180,
   "metadata": {},
   "outputs": [
    {
     "data": {
      "text/plain": [
       "[{'id': 13166035,\n",
       "  'key-value': [{'key': 'UVZvdGVEZWNpc2lvbkNyZWRpdHM=',\n",
       "    'value': {'bytes': '', 'type': 2, 'uint': 42}}],\n",
       "  'schema': {'num-byte-slice': 1, 'num-uint': 1}}]"
      ]
     },
     "execution_count": 180,
     "metadata": {},
     "output_type": "execute_result"
    }
   ],
   "source": [
    "# did anything actually change in the local storage? \n",
    "local_storage = algod_client.account_info(funded_accounts[1]['pk'])['apps-local-state']\n",
    "local_storage"
   ]
  },
  {
   "cell_type": "code",
   "execution_count": null,
   "metadata": {},
   "outputs": [],
   "source": []
  }
 ],
 "metadata": {
  "kernelspec": {
   "display_name": "Python 3",
   "language": "python",
   "name": "python3"
  },
  "language_info": {
   "codemirror_mode": {
    "name": "ipython",
    "version": 3
   },
   "file_extension": ".py",
   "mimetype": "text/x-python",
   "name": "python",
   "nbconvert_exporter": "python",
   "pygments_lexer": "ipython3",
   "version": "3.7.4"
  }
 },
 "nbformat": 4,
 "nbformat_minor": 2
}
