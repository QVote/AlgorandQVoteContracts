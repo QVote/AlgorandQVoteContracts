{
 "cells": [
  {
   "cell_type": "code",
   "execution_count": 1,
   "metadata": {},
   "outputs": [
    {
     "data": {
      "text/html": [
       "<style>.container { margin-left: 2.5% !important; width:95%; }</style>"
      ],
      "text/plain": [
       "<IPython.core.display.HTML object>"
      ]
     },
     "metadata": {},
     "output_type": "display_data"
    }
   ],
   "source": [
    "# used to widen the cells \n",
    "from IPython.core.display import display, HTML\n",
    "display(HTML(\"<style>.container { margin-left: 2.5% !important; width:95%; }</style>\"))\n"
   ]
  },
  {
   "cell_type": "code",
   "execution_count": 30,
   "metadata": {},
   "outputs": [],
   "source": [
    "from algosdk import account\n",
    "from algosdk.v2client import algod\n",
    "from algosdk import mnemonic\n",
    "from algosdk import transaction\n",
    "\n",
    "algod_address = \"https://testnet-algorand.api.purestake.io/ps2\"\n",
    "algod_token = \"fFG6R4JTFq9Hh8RjZy130aMRdUhmOYp68hi9nm4L\"\n",
    "headers = {\n",
    "   \"X-API-Key\": algod_token,\n",
    "}\n",
    "\n",
    "algod_client = algod.AlgodClient(algod_token, algod_address, headers);\n"
   ]
  },
  {
   "cell_type": "code",
   "execution_count": 10,
   "metadata": {},
   "outputs": [],
   "source": [
    "def generate_account():\n",
    "    priv_key, address = account.generate_account()\n",
    "    return {'private_key': priv_key, 'address': address, 'memo': mnemonic.from_private_key(priv_key)}"
   ]
  },
  {
   "cell_type": "code",
   "execution_count": 14,
   "metadata": {},
   "outputs": [
    {
     "data": {
      "text/plain": [
       "{'private_key': 'FEH3Rf+ECQI4bT2GUvlvUOaZ5CB/DCwtIo1kI2ssQV1Lwq/KymQ7ptykKtzXDRpA+h5G1Go29pMQ2/ap9Lp6gg==',\n",
       " 'address': 'JPBK7SWKMQ52NXFEFLONODI2ID5B4RWUNI3PNEYQ3P3KT5F2PKBFA2RNOM',\n",
       " 'memo': 'card tackle pepper exit basic above hawk dice express torch dawn govern critic decrease weekend arrest pitch master educate curve stone enrich tube able cricket'}"
      ]
     },
     "execution_count": 14,
     "metadata": {},
     "output_type": "execute_result"
    }
   ],
   "source": [
    "# creator = generate_account()\n",
    "# creator"
   ]
  },
  {
   "cell_type": "code",
   "execution_count": 25,
   "metadata": {},
   "outputs": [],
   "source": [
    "creator = {'private_key': 'FEH3Rf+ECQI4bT2GUvlvUOaZ5CB/DCwtIo1kI2ssQV1Lwq/KymQ7ptykKtzXDRpA+h5G1Go29pMQ2/ap9Lp6gg==',\n",
    "           'address': 'JPBK7SWKMQ52NXFEFLONODI2ID5B4RWUNI3PNEYQ3P3KT5F2PKBFA2RNOM',\n",
    "           'memo': 'card tackle pepper exit basic above hawk dice express torch dawn govern critic decrease weekend arrest pitch master educate curve stone enrich tube able cricket'}"
   ]
  },
  {
   "cell_type": "code",
   "execution_count": 34,
   "metadata": {},
   "outputs": [
    {
     "data": {
      "text/plain": [
       "{'address': 'T3EEEWGEZSRNX53VIKDODAAKZ42BZ43BFSMJZWQSOOUCBUFENE6NPBGJUM',\n",
       " 'amount': 0,\n",
       " 'amount-without-pending-rewards': 0,\n",
       " 'apps-local-state': [],\n",
       " 'apps-total-schema': {'num-byte-slice': 0, 'num-uint': 0},\n",
       " 'assets': [],\n",
       " 'created-apps': [],\n",
       " 'created-assets': [],\n",
       " 'pending-rewards': 0,\n",
       " 'reward-base': 26530,\n",
       " 'rewards': 0,\n",
       " 'round': 13072345,\n",
       " 'status': 'Offline'}"
      ]
     },
     "execution_count": 34,
     "metadata": {},
     "output_type": "execute_result"
    }
   ],
   "source": [
    "algod_client.account_info(voters[2]['address'])"
   ]
  },
  {
   "cell_type": "code",
   "execution_count": 17,
   "metadata": {},
   "outputs": [
    {
     "data": {
      "text/plain": [
       "[{'private_key': 'ifH/zXLAURpo8ZLVrSa7JwL46zKiCI6T8hQVDKLfl7OHJvcxU4KOymkRKGXIt9hSJYDNU4bLphvnprOMk0nXoQ==',\n",
       "  'address': 'Q4TPOMKTQKHMU2IRFBS4RN6YKISYBTKTQ3F2MG7HU2ZYZE2J26QVEUCFII',\n",
       "  'memo': 'couple zone group already phone alley mercy napkin rival one talk carbon useless road bag anger impact ski media scout dune wave original absent grape'},\n",
       " {'private_key': 'WUxKu75u2NQwXsc60Y3oiIn0AljrFVpHxdmTy+aqBOA+I4SYeZUnGNcbv/BEJZBslRcx0VlbrL3/t+Sb/rFaog==',\n",
       "  'address': 'HYRYJGDZSUTRRVY3X7YEIJMQNSKROMORLFN2ZPP7W7SJX7VRLKRGFM74AE',\n",
       "  'memo': 'menu circle frozen typical radio cry various shrug chef dance inmate obtain trouble absent food bicycle twice bench undo rice snow click ability abstract mystery'},\n",
       " {'private_key': '2FG17XNEhzK2MiqozJ+VFBqCrx4XnDpNJs9mwh9hClieyEJYxMyi2/d1QobhgArPNBzzYSyYnNoSc6gg0KRpPA==',\n",
       "  'address': 'T3EEEWGEZSRNX53VIKDODAAKZ42BZ43BFSMJZWQSOOUCBUFENE6NPBGJUM',\n",
       "  'memo': 'deposit stem walnut elbow attend million noble clay never left enlist pattern aerobic program rib orchard point odor guide chapter display obscure scare able fruit'},\n",
       " {'private_key': '6eC5pU1jSqJTD6LZyX1v2JDT47FLBUTiCjGR7GSMKu91Xx7H6FZtCYDH725SCUNgd7isetmt0tNVs57q9qKiUw==',\n",
       "  'address': 'OVPR5R7IKZWQTAGH55XFECKDMB33RLD23GW5FU2VWOPOV5VCUJJRI3FH74',\n",
       "  'memo': 'brush travel spot crumble network trigger kind pear depth warm dash assault poet jump frown aim embrace clog obtain simple six perfect junk abstract speak'},\n",
       " {'private_key': 'ApR/2KQlYK4bJR4UyOmWnhewKS5DeEXYY3OcU7Py21p8g6uBVYT5J3NxRSpSg8VmYjrlG3VeuhMaukUZlrNSKw==',\n",
       "  'address': 'PSB2XAKVQT4SO43RIUVFFA6FMZRDVZI3OVPLUEY2XJCRTFVTKIV3SKH5SQ',\n",
       "  'memo': 'leopard wrestle history fog scare twist churn bullet action poet enter ketchup gasp media bonus joke anger month defy degree grit witness strategy able income'}]"
      ]
     },
     "execution_count": 17,
     "metadata": {},
     "output_type": "execute_result"
    }
   ],
   "source": [
    "# voters = [generate_account() for i in range(5)]\n",
    "# voters"
   ]
  },
  {
   "cell_type": "code",
   "execution_count": null,
   "metadata": {},
   "outputs": [],
   "source": [
    "voters = [{'private_key': 'ifH/zXLAURpo8ZLVrSa7JwL46zKiCI6T8hQVDKLfl7OHJvcxU4KOymkRKGXIt9hSJYDNU4bLphvnprOMk0nXoQ==',\n",
    "  'address': 'Q4TPOMKTQKHMU2IRFBS4RN6YKISYBTKTQ3F2MG7HU2ZYZE2J26QVEUCFII',\n",
    "  'memo': 'couple zone group already phone alley mercy napkin rival one talk carbon useless road bag anger impact ski media scout dune wave original absent grape'},\n",
    " {'private_key': 'WUxKu75u2NQwXsc60Y3oiIn0AljrFVpHxdmTy+aqBOA+I4SYeZUnGNcbv/BEJZBslRcx0VlbrL3/t+Sb/rFaog==',\n",
    "  'address': 'HYRYJGDZSUTRRVY3X7YEIJMQNSKROMORLFN2ZPP7W7SJX7VRLKRGFM74AE',\n",
    "  'memo': 'menu circle frozen typical radio cry various shrug chef dance inmate obtain trouble absent food bicycle twice bench undo rice snow click ability abstract mystery'},\n",
    " {'private_key': '2FG17XNEhzK2MiqozJ+VFBqCrx4XnDpNJs9mwh9hClieyEJYxMyi2/d1QobhgArPNBzzYSyYnNoSc6gg0KRpPA==',\n",
    "  'address': 'T3EEEWGEZSRNX53VIKDODAAKZ42BZ43BFSMJZWQSOOUCBUFENE6NPBGJUM',\n",
    "  'memo': 'deposit stem walnut elbow attend million noble clay never left enlist pattern aerobic program rib orchard point odor guide chapter display obscure scare able fruit'},\n",
    " {'private_key': '6eC5pU1jSqJTD6LZyX1v2JDT47FLBUTiCjGR7GSMKu91Xx7H6FZtCYDH725SCUNgd7isetmt0tNVs57q9qKiUw==',\n",
    "  'address': 'OVPR5R7IKZWQTAGH55XFECKDMB33RLD23GW5FU2VWOPOV5VCUJJRI3FH74',\n",
    "  'memo': 'brush travel spot crumble network trigger kind pear depth warm dash assault poet jump frown aim embrace clog obtain simple six perfect junk abstract speak'},\n",
    " {'private_key': 'ApR/2KQlYK4bJR4UyOmWnhewKS5DeEXYY3OcU7Py21p8g6uBVYT5J3NxRSpSg8VmYjrlG3VeuhMaukUZlrNSKw==',\n",
    "  'address': 'PSB2XAKVQT4SO43RIUVFFA6FMZRDVZI3OVPLUEY2XJCRTFVTKIV3SKH5SQ',\n",
    "  'memo': 'leopard wrestle history fog scare twist churn bullet action poet enter ketchup gasp media bonus joke anger month defy degree grit witness strategy able income'}]"
   ]
  },
  {
   "cell_type": "markdown",
   "metadata": {},
   "source": [
    "## Utils "
   ]
  },
  {
   "cell_type": "code",
   "execution_count": 36,
   "metadata": {},
   "outputs": [],
   "source": [
    "# utility for waiting on a transaction confirmation\n",
    "def wait_for_confirmation(client, transaction_id, timeout=10):\n",
    "    \"\"\"\n",
    "    Wait until the transaction is confirmed or rejected, or until 'timeout'\n",
    "    number of rounds have passed.\n",
    "    Args:\n",
    "        transaction_id (str): the transaction to wait for\n",
    "        timeout (int): maximum number of rounds to wait    \n",
    "    Returns:\n",
    "        dict: pending transaction information, or throws an error if the transaction\n",
    "            is not confirmed or rejected in the next timeout rounds\n",
    "    \"\"\"\n",
    "    start_round = client.status()[\"last-round\"] + 1;\n",
    "    current_round = start_round\n",
    "\n",
    "    while current_round < start_round + timeout:\n",
    "        try:\n",
    "            pending_txn = client.pending_transaction_info(transaction_id)\n",
    "        except Exception:\n",
    "            return \n",
    "        if pending_txn.get(\"confirmed-round\", 0) > 0:\n",
    "            return pending_txn\n",
    "        elif pending_txn[\"pool-error\"]:  \n",
    "            raise Exception(\n",
    "                'pool error: {}'.format(pending_txn[\"pool-error\"]))\n",
    "        client.status_after_block(current_round)                   \n",
    "        current_round += 1\n",
    "    raise Exception(\n",
    "        'pending tx not found in timeout rounds, timeout value = : {}'.format(timeout))"
   ]
  },
  {
   "cell_type": "code",
   "execution_count": 48,
   "metadata": {},
   "outputs": [],
   "source": [
    "# read app global state\n",
    "def read_global_state(client, addr, app_id):   \n",
    "    results = client.account_info(addr)\n",
    "    apps_created = results['created-apps']\n",
    "    global_states = []\n",
    "    for app in apps_created :\n",
    "        if app['id'] == app_id :\n",
    "            global_states.append(app['params']['global-state'])\n",
    "            # print(f\"global_state for app_id {app_id}: \", app['params']['global-state'])\n",
    "    return global_states "
   ]
  },
  {
   "cell_type": "code",
   "execution_count": 49,
   "metadata": {},
   "outputs": [],
   "source": [
    "import base64 \n",
    "def decode_keys(s):\n",
    "    for entry in s[0]:\n",
    "        entry['key'] = base64.b64decode(entry['key']).decode('utf-8')\n",
    "    return s"
   ]
  },
  {
   "cell_type": "markdown",
   "metadata": {},
   "source": [
    "## Registration tests"
   ]
  },
  {
   "cell_type": "code",
   "execution_count": 44,
   "metadata": {},
   "outputs": [],
   "source": [
    "with open('../contracts/compiled/quadratic_voting_approval.teal.tok', 'rb') as f:\n",
    "    approval_bytes = f.read()\n",
    "\n",
    "with open('../contracts/compiled/quadratic_voting_clear_state.teal.tok', 'rb') as f: \n",
    "    clear_state_bytes = f.read() "
   ]
  },
  {
   "cell_type": "code",
   "execution_count": null,
   "metadata": {},
   "outputs": [],
   "source": []
  }
 ],
 "metadata": {
  "kernelspec": {
   "display_name": "Python 3",
   "language": "python",
   "name": "python3"
  },
  "language_info": {
   "codemirror_mode": {
    "name": "ipython",
    "version": 3
   },
   "file_extension": ".py",
   "mimetype": "text/x-python",
   "name": "python",
   "nbconvert_exporter": "python",
   "pygments_lexer": "ipython3",
   "version": "3.7.4"
  }
 },
 "nbformat": 4,
 "nbformat_minor": 2
}
